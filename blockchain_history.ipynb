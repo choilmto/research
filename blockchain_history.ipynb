{
 "cells": [
  {
   "cell_type": "code",
   "execution_count": 1,
   "metadata": {
    "collapsed": false
   },
   "outputs": [],
   "source": [
    "from jsonrpc.proxy import JSONRPCProxy\n",
    "daemon = JSONRPCProxy.from_url(\"http://localhost:5279/lbryapi\")"
   ]
  },
  {
   "cell_type": "code",
   "execution_count": 2,
   "metadata": {
    "collapsed": false
   },
   "outputs": [
    {
     "data": {
      "text/plain": [
       "4.06948306"
      ]
     },
     "execution_count": 2,
     "metadata": {},
     "output_type": "execute_result"
    }
   ],
   "source": [
    "daemon.get_balance() #this is just a test"
   ]
  },
  {
   "cell_type": "code",
   "execution_count": 3,
   "metadata": {
    "collapsed": true
   },
   "outputs": [],
   "source": [
    "import json\n",
    "import requests\n",
    "import datetime"
   ]
  },
  {
   "cell_type": "code",
   "execution_count": 4,
   "metadata": {
    "collapsed": true
   },
   "outputs": [],
   "source": [
    "#jacks reward function\n",
    "COIN = 10**8\n",
    "block_time = 150\n",
    "blocks_per_ramp = 100\n",
    "start_ramp_height = 5001\n",
    "limit = 1083221000 * COIN\n",
    "subsidy_interval = 1 << 5\n",
    "max_reductions = 500\n",
    "peak_reward = 500 * COIN\n",
    "premine = 400000000 * COIN\n",
    "\n",
    "\n",
    "def reward(n):\n",
    "    assert n >= 0\n",
    "    if n < 5001:\n",
    "        return COIN\n",
    "    elif n < 55001:\n",
    "        r = 1 + ((n - ((n - start_ramp_height) % blocks_per_ramp) - start_ramp_height) / blocks_per_ramp)\n",
    "        return r * COIN\n",
    "    else:\n",
    "        level = int((n - 55001) / subsidy_interval)\n",
    "        reduction = int((-1 + int((8 * level) + 1) ** 0.5) / 2)\n",
    "        while level >= ((reduction * reduction + reduction) >> 1):\n",
    "            if ((reduction * reduction + reduction) >> 1) > level:\n",
    "                reduction -= 1\n",
    "            else:\n",
    "                reduction += 1\n",
    "        if reduction * COIN >= peak_reward:\n",
    "            return 0\n",
    "        return peak_reward - (reduction * COIN)"
   ]
  },
  {
   "cell_type": "code",
   "execution_count": 5,
   "metadata": {
    "collapsed": true
   },
   "outputs": [],
   "source": [
    "def block_velocity(block):\n",
    "    list_of_tx = [daemon.get_transaction({'txid':txh}) for txh in block['tx']]\n",
    "    #print list_of_tx\n",
    "    list_of_tx_outs = [sum([int(out['value'])for out in tx['outputs']]) for tx in list_of_tx]\n",
    "    return float(sum(list_of_tx_outs))/COIN"
   ]
  },
  {
   "cell_type": "code",
   "execution_count": 8,
   "metadata": {
    "collapsed": false
   },
   "outputs": [],
   "source": [
    "conv = COIN #deweys to 1 LBC\n",
    "block_data = {}\n",
    "\n",
    "#genesis\n",
    "genesis_hash = \"9c89283ba0f3227f6c03b70216b9f665f0118d5e0fa729cedf4fb34d6a34f463\"\n",
    "\n",
    "current_block=daemon.get_block({'blockhash': genesis_hash})\n",
    "\n",
    "block_data[0] = {\"height\":0, \n",
    "                     \"timestamp\":datetime.datetime.fromtimestamp(int(current_block['time'])), \n",
    "                     \"reward\":reward(0)/COIN, \n",
    "                     \"tx_count\": len(current_block['tx']),\n",
    "                     \"tx_outs\": block_velocity(current_block),\n",
    "                     \"difficulty\": current_block['difficulty'],\n",
    "                     \"confirmations\": current_block['confirmations']\n",
    "                 }"
   ]
  },
  {
   "cell_type": "code",
   "execution_count": 9,
   "metadata": {
    "collapsed": false
   },
   "outputs": [
    {
     "data": {
      "text/plain": [
       "{0: {'confirmations': 37281,\n",
       "  'difficulty': 1.52587890625e-05,\n",
       "  'height': 0,\n",
       "  'reward': 1,\n",
       "  'timestamp': datetime.datetime(2015, 10, 28, 14, 51, 31),\n",
       "  'tx_count': 1,\n",
       "  'tx_outs': 400000000.0}}"
      ]
     },
     "execution_count": 9,
     "metadata": {},
     "output_type": "execute_result"
    }
   ],
   "source": [
    "block_data"
   ]
  },
  {
   "cell_type": "code",
   "execution_count": 10,
   "metadata": {
    "collapsed": false
   },
   "outputs": [],
   "source": [
    "bhash=daemon.get_best_blockhash()\n",
    "current_block=daemon.get_block({'blockhash': bhash})"
   ]
  },
  {
   "cell_type": "code",
   "execution_count": 11,
   "metadata": {
    "collapsed": false
   },
   "outputs": [
    {
     "data": {
      "text/plain": [
       "{u'bits': u'1b00ed47',\n",
       " u'chainwork': u'000000000000000000000000000000000000000000000000548fcf6f89072373',\n",
       " u'confirmations': 2,\n",
       " u'difficulty': 70706.11856510215,\n",
       " u'hash': u'59a55f01ba48eaf0e804ad1bce2ad5d45a318ec824319851deaf1592b82c5102',\n",
       " u'height': 37280,\n",
       " u'mediantime': 1472603204,\n",
       " u'merkleroot': u'4bc169bd1625fc324b469f5b19c1070a51a27f67531311022b231718bb6b28fe',\n",
       " u'nameclaimroot': u'012b9450aa8142d9dfce517f9ff67375cad688981a12a29b37cec635ad3d4015',\n",
       " u'nextblockhash': u'9b821adbbd4da9a9b2a927e09b2061b45ef469c3d3dc1123ca5fc5d122e04d38',\n",
       " u'nonce': 2681691226,\n",
       " u'previousblockhash': u'6acb363b2f0a4d4ddd9fe5d5d28942484ca6dc2d0f8ad22f323de184e6fae0a2',\n",
       " u'size': 227,\n",
       " u'target': u'000000000000ed47000000000000000000000000000000000000000000000000',\n",
       " u'time': 1472603710,\n",
       " u'tx': [u'4bc169bd1625fc324b469f5b19c1070a51a27f67531311022b231718bb6b28fe'],\n",
       " u'version': 536870912,\n",
       " u'versionHex': u'20000000'}"
      ]
     },
     "execution_count": 11,
     "metadata": {},
     "output_type": "execute_result"
    }
   ],
   "source": [
    "block_count = current_block['height']\n",
    "current_block"
   ]
  },
  {
   "cell_type": "code",
   "execution_count": null,
   "metadata": {
    "collapsed": false
   },
   "outputs": [
    {
     "name": "stdout",
     "output_type": "stream",
     "text": [
      "block 37234 velocity computation failed \n"
     ]
    }
   ],
   "source": [
    "vel_fail = []\n",
    "for j in range(block_count,0,-1):\n",
    "    try:\n",
    "        velocity = block_velocity(current_block)\n",
    "    except:\n",
    "        velocity = None\n",
    "        print \"block \"+str(j)+\" velocity computation failed \"\n",
    "        vel_fail = vel_fail+[j]\n",
    "        \n",
    "    block_data[j] = {\"height\":j, \n",
    "                     \"timestamp\":datetime.datetime.fromtimestamp(int(current_block['time'])), \n",
    "                     \"reward\":reward(j)/COIN, \n",
    "                     \"tx_count\": len(current_block['tx']),\n",
    "                     \"tx_outs\": velocity,\n",
    "                     \"difficulty\": current_block['difficulty'],\n",
    "                     \"confirmations\": current_block['confirmations']\n",
    "                    }\n",
    "    del velocity\n",
    "    previous_blockhash = current_block['previousblockhash']\n",
    "    current_block=daemon.get_block({'blockhash': previous_blockhash})\n"
   ]
  },
  {
   "cell_type": "code",
   "execution_count": null,
   "metadata": {
    "collapsed": true
   },
   "outputs": [],
   "source": [
    "df = pd.DataFrame(block_data).T.order_by(\"height\")"
   ]
  },
  {
   "cell_type": "code",
   "execution_count": null,
   "metadata": {
    "collapsed": true
   },
   "outputs": [],
   "source": [
    "df.head()"
   ]
  },
  {
   "cell_type": "code",
   "execution_count": null,
   "metadata": {
    "collapsed": true
   },
   "outputs": [],
   "source": [
    "df['mined_supply'] = df[df.height>0].reward.cumsum()\n",
    "df['total_supply'] = df.mined_supply+premine"
   ]
  },
  {
   "cell_type": "code",
   "execution_count": null,
   "metadata": {
    "collapsed": true
   },
   "outputs": [],
   "source": [
    "df.to_csv('lbry_history.csv')"
   ]
  }
 ],
 "metadata": {
  "kernelspec": {
   "display_name": "Python 2",
   "language": "python",
   "name": "python2"
  },
  "language_info": {
   "codemirror_mode": {
    "name": "ipython",
    "version": 2
   },
   "file_extension": ".py",
   "mimetype": "text/x-python",
   "name": "python",
   "nbconvert_exporter": "python",
   "pygments_lexer": "ipython2",
   "version": "2.7.11"
  }
 },
 "nbformat": 4,
 "nbformat_minor": 0
}
