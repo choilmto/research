{
 "cells": [
  {
   "cell_type": "markdown",
   "metadata": {},
   "source": [
    "### This notebook pulls the current state of the blockchain off the blockexplorer api and then simulates the future of the blockchain using a simple mean waiting time model with the true expected blocktime which is 150 second."
   ]
  },
  {
   "cell_type": "markdown",
   "metadata": {},
   "source": [
    "Totally stole jack's python function for block rewards"
   ]
  },
  {
   "cell_type": "code",
   "execution_count": 1,
   "metadata": {
    "collapsed": true
   },
   "outputs": [],
   "source": [
    "years = 5\n",
    "\n",
    "COIN = 10**8\n",
    "block_time = 150\n",
    "blocks_per_ramp = 100\n",
    "start_ramp_height = 5001\n",
    "limit = 1083221000 * COIN\n",
    "subsidy_interval = 1 << 5\n",
    "max_reductions = 500\n",
    "peak_reward = 500 * COIN\n",
    "premine = 400000000 * COIN\n",
    "\n",
    "\n",
    "def reward(n):\n",
    "    assert n >= 0\n",
    "    if n < 5001:\n",
    "        return COIN\n",
    "    elif n < 55001:\n",
    "        r = 1 + ((n - ((n - start_ramp_height) % blocks_per_ramp) - start_ramp_height) / blocks_per_ramp)\n",
    "        return r * COIN\n",
    "    else:\n",
    "        level = int((n - 55001) / subsidy_interval)\n",
    "        reduction = int((-1 + int((8 * level) + 1) ** 0.5) / 2)\n",
    "        while level >= ((reduction * reduction + reduction) >> 1):\n",
    "            if ((reduction * reduction + reduction) >> 1) > level:\n",
    "                reduction -= 1\n",
    "            else:\n",
    "                reduction += 1\n",
    "        if reduction * COIN >= peak_reward:\n",
    "            return 0\n",
    "        return peak_reward - (reduction * COIN)"
   ]
  },
  {
   "cell_type": "code",
   "execution_count": 38,
   "metadata": {
    "collapsed": true
   },
   "outputs": [],
   "source": [
    "import numpy as np\n",
    "import pandas as pd\n",
    "import datetime \n",
    "import matplotlib.pyplot as plt\n",
    "%matplotlib inline"
   ]
  },
  {
   "cell_type": "code",
   "execution_count": 3,
   "metadata": {
    "collapsed": true
   },
   "outputs": [],
   "source": [
    "import json\n",
    "import requests\n",
    "block_count = int(requests.get(\"https://explorer.lbry.io/api/getblockcount\").content)\n",
    "def getblock(blockHash):\n",
    "    return json.loads(requests.get(\"https://explorer.lbry.io/api/getblock?hash=\"+blockHash).content)\n",
    "\n",
    "def getBlockTime(block):\n",
    "    hashstr = requests.get(\"https://explorer.lbry.io/api/getblockhash?index=\"+str(block)).content\n",
    "    return datetime.datetime.fromtimestamp(int(getblock(hashstr)['time']))"
   ]
  },
  {
   "cell_type": "code",
   "execution_count": 8,
   "metadata": {
    "collapsed": false
   },
   "outputs": [],
   "source": [
    "now = datetime.datetime.now()\n",
    "block_data = {}"
   ]
  },
  {
   "cell_type": "code",
   "execution_count": 5,
   "metadata": {
    "collapsed": false
   },
   "outputs": [],
   "source": [
    "#randomized block time\n",
    "def bt(prev_bt):\n",
    "    avg_bt = float(block_time)\n",
    "    seconds = np.random.exponential(scale=avg_bt)\n",
    "    #print seconds\n",
    "    return prev_bt + datetime.timedelta(seconds=seconds)"
   ]
  },
  {
   "cell_type": "code",
   "execution_count": 11,
   "metadata": {
    "collapsed": false
   },
   "outputs": [],
   "source": [
    "years = 5\n",
    "i = block_count\n",
    "block_data[block_count]={\"height\":block_count, \"timestamp\":now, \"reward\":reward(block_count)/COIN}\n",
    "while block_data[i][\"timestamp\"] < now +datetime.timedelta(hours=365*24*years):\n",
    "    i=i+1\n",
    "    block_data[i] = {\"height\":i, \"timestamp\":bt(block_data[i-1][\"timestamp\"]), \"reward\":reward(i+1)/COIN}\n",
    "    "
   ]
  },
  {
   "cell_type": "code",
   "execution_count": 13,
   "metadata": {
    "collapsed": false
   },
   "outputs": [],
   "source": [
    "df = pd.DataFrame(block_data).T"
   ]
  },
  {
   "cell_type": "code",
   "execution_count": 14,
   "metadata": {
    "collapsed": false
   },
   "outputs": [
    {
     "data": {
      "text/html": [
       "<div>\n",
       "<table border=\"1\" class=\"dataframe\">\n",
       "  <thead>\n",
       "    <tr style=\"text-align: right;\">\n",
       "      <th></th>\n",
       "      <th>height</th>\n",
       "      <th>reward</th>\n",
       "      <th>timestamp</th>\n",
       "    </tr>\n",
       "  </thead>\n",
       "  <tbody>\n",
       "    <tr>\n",
       "      <th>37233</th>\n",
       "      <td>37233</td>\n",
       "      <td>323</td>\n",
       "      <td>2016-08-30 18:30:30.474017</td>\n",
       "    </tr>\n",
       "    <tr>\n",
       "      <th>37234</th>\n",
       "      <td>37234</td>\n",
       "      <td>323</td>\n",
       "      <td>2016-08-30 18:30:37.855729</td>\n",
       "    </tr>\n",
       "    <tr>\n",
       "      <th>37235</th>\n",
       "      <td>37235</td>\n",
       "      <td>323</td>\n",
       "      <td>2016-08-30 18:31:32.454769</td>\n",
       "    </tr>\n",
       "    <tr>\n",
       "      <th>37236</th>\n",
       "      <td>37236</td>\n",
       "      <td>323</td>\n",
       "      <td>2016-08-30 18:34:51.969802</td>\n",
       "    </tr>\n",
       "    <tr>\n",
       "      <th>37237</th>\n",
       "      <td>37237</td>\n",
       "      <td>323</td>\n",
       "      <td>2016-08-30 18:38:41.597478</td>\n",
       "    </tr>\n",
       "  </tbody>\n",
       "</table>\n",
       "</div>"
      ],
      "text/plain": [
       "      height reward                   timestamp\n",
       "37233  37233    323  2016-08-30 18:30:30.474017\n",
       "37234  37234    323  2016-08-30 18:30:37.855729\n",
       "37235  37235    323  2016-08-30 18:31:32.454769\n",
       "37236  37236    323  2016-08-30 18:34:51.969802\n",
       "37237  37237    323  2016-08-30 18:38:41.597478"
      ]
     },
     "execution_count": 14,
     "metadata": {},
     "output_type": "execute_result"
    }
   ],
   "source": [
    "df.head()"
   ]
  },
  {
   "cell_type": "code",
   "execution_count": 15,
   "metadata": {
    "collapsed": false
   },
   "outputs": [],
   "source": [
    "premine = 4*10**8\n",
    "circulation = float(requests.get(\"https://explorer.lbry.io/ext/getmoneysupply\").content)\n",
    "\n",
    "df['liquid_supply'] = df.reward.cumsum()+circulation-premine\n",
    "df['absolute_supply'] = df.liquid_supply+premine"
   ]
  },
  {
   "cell_type": "code",
   "execution_count": 16,
   "metadata": {
    "collapsed": false
   },
   "outputs": [
    {
     "data": {
      "text/html": [
       "<div>\n",
       "<table border=\"1\" class=\"dataframe\">\n",
       "  <thead>\n",
       "    <tr style=\"text-align: right;\">\n",
       "      <th></th>\n",
       "      <th>height</th>\n",
       "      <th>reward</th>\n",
       "      <th>timestamp</th>\n",
       "      <th>liquid_supply</th>\n",
       "      <th>absolute_supply</th>\n",
       "    </tr>\n",
       "  </thead>\n",
       "  <tbody>\n",
       "    <tr>\n",
       "      <th>37233</th>\n",
       "      <td>37233</td>\n",
       "      <td>323</td>\n",
       "      <td>2016-08-30 18:30:30.474017</td>\n",
       "      <td>5.21660e+06</td>\n",
       "      <td>4.05217e+08</td>\n",
       "    </tr>\n",
       "    <tr>\n",
       "      <th>37234</th>\n",
       "      <td>37234</td>\n",
       "      <td>323</td>\n",
       "      <td>2016-08-30 18:30:37.855729</td>\n",
       "      <td>5.21693e+06</td>\n",
       "      <td>4.05217e+08</td>\n",
       "    </tr>\n",
       "    <tr>\n",
       "      <th>37235</th>\n",
       "      <td>37235</td>\n",
       "      <td>323</td>\n",
       "      <td>2016-08-30 18:31:32.454769</td>\n",
       "      <td>5.21725e+06</td>\n",
       "      <td>4.05217e+08</td>\n",
       "    </tr>\n",
       "    <tr>\n",
       "      <th>37236</th>\n",
       "      <td>37236</td>\n",
       "      <td>323</td>\n",
       "      <td>2016-08-30 18:34:51.969802</td>\n",
       "      <td>5.21757e+06</td>\n",
       "      <td>4.05218e+08</td>\n",
       "    </tr>\n",
       "    <tr>\n",
       "      <th>37237</th>\n",
       "      <td>37237</td>\n",
       "      <td>323</td>\n",
       "      <td>2016-08-30 18:38:41.597478</td>\n",
       "      <td>5.2179e+06</td>\n",
       "      <td>4.05218e+08</td>\n",
       "    </tr>\n",
       "  </tbody>\n",
       "</table>\n",
       "</div>"
      ],
      "text/plain": [
       "      height reward                   timestamp liquid_supply absolute_supply\n",
       "37233  37233    323  2016-08-30 18:30:30.474017   5.21660e+06     4.05217e+08\n",
       "37234  37234    323  2016-08-30 18:30:37.855729   5.21693e+06     4.05217e+08\n",
       "37235  37235    323  2016-08-30 18:31:32.454769   5.21725e+06     4.05217e+08\n",
       "37236  37236    323  2016-08-30 18:34:51.969802   5.21757e+06     4.05218e+08\n",
       "37237  37237    323  2016-08-30 18:38:41.597478    5.2179e+06     4.05218e+08"
      ]
     },
     "execution_count": 16,
     "metadata": {},
     "output_type": "execute_result"
    }
   ],
   "source": [
    "df.head()"
   ]
  },
  {
   "cell_type": "code",
   "execution_count": 27,
   "metadata": {
    "collapsed": false
   },
   "outputs": [],
   "source": [
    "tdf = df.set_index('timestamp')"
   ]
  },
  {
   "cell_type": "code",
   "execution_count": 64,
   "metadata": {
    "collapsed": false
   },
   "outputs": [
    {
     "data": {
      "text/plain": [
       "<matplotlib.text.Text at 0x1f92ead10>"
      ]
     },
     "execution_count": 64,
     "metadata": {},
     "output_type": "execute_result"
    },
    {
     "data": {
      "image/png": "[encoded data removed]",
      "text/plain": [
       "<matplotlib.figure.Figure at 0x1e36ca7d0>"
      ]
     },
     "metadata": {},
     "output_type": "display_data"
    }
   ],
   "source": [
    "tdf.liquid_supply.plot(kind='area')\n",
    "plt.ylabel('Supply LBC')\n",
    "tdf.reward.plot(secondary_y=True, style='r', sharex=True)\n",
    "plt.title('LBC supply and Mining rewards')\n",
    "plt.legend()\n",
    "plt.ylabel('Reward LBC')"
   ]
  },
  {
   "cell_type": "code",
   "execution_count": 63,
   "metadata": {
    "collapsed": false
   },
   "outputs": [
    {
     "data": {
      "text/plain": [
       "<matplotlib.text.Text at 0x1f15801d0>"
      ]
     },
     "execution_count": 63,
     "metadata": {},
     "output_type": "execute_result"
    },
    {
     "data": {
      "image/png": "[encoded data removed]",
      "text/plain": [
       "<matplotlib.figure.Figure at 0x1e57db510>"
      ]
     },
     "metadata": {},
     "output_type": "display_data"
    }
   ],
   "source": [
    "#100 days\n",
    "days100 = now +datetime.timedelta(hours=24*100)\n",
    "short_tdf=tdf[tdf.index <days100]\n",
    "short_tdf.liquid_supply.plot(kind='area')\n",
    "plt.ylabel('Supply LBC')\n",
    "short_tdf.reward.plot(secondary_y=True, style='r', sharex=True)\n",
    "plt.title('LBC supply and Mining rewards')\n",
    "plt.legend()\n",
    "plt.ylabel('Reward LBC')"
   ]
  },
  {
   "cell_type": "code",
   "execution_count": null,
   "metadata": {
    "collapsed": true
   },
   "outputs": [],
   "source": []
  }
 ],
 "metadata": {
  "kernelspec": {
   "display_name": "Python 2",
   "language": "python",
   "name": "python2"
  },
  "language_info": {
   "codemirror_mode": {
    "name": "ipython",
    "version": 2
   },
   "file_extension": ".py",
   "mimetype": "text/x-python",
   "name": "python",
   "nbconvert_exporter": "python",
   "pygments_lexer": "ipython2",
   "version": "2.7.11"
  }
 },
 "nbformat": 4,
 "nbformat_minor": 0
}
