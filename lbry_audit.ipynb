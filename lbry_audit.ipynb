{
 "cells": [
  {
   "cell_type": "code",
   "execution_count": 1,
   "metadata": {
    "collapsed": false
   },
   "outputs": [
    {
     "name": "stdout",
     "output_type": "stream",
     "text": [
      "········\n"
     ]
    }
   ],
   "source": [
    "import pandas as pd\n",
    "from pymongo import MongoClient\n",
    "import matplotlib.pyplot as plt\n",
    "import datetime\n",
    "import pytz\n",
    "%matplotlib inline\n",
    "\n",
    "import getpass\n",
    "password = getpass.getpass()"
   ]
  },
  {
   "cell_type": "code",
   "execution_count": 2,
   "metadata": {
    "collapsed": true
   },
   "outputs": [],
   "source": [
    "def connect_mongo(host, port, username, password, db):\n",
    "    \"\"\" A util for making a connection to mongo \"\"\"\n",
    "\n",
    "    if username and password:\n",
    "        mongo_uri = 'mongodb://%s:%s@%s:%s/%s' % (username, password, host, port, db)\n",
    "        conn = MongoClient(mongo_uri)\n",
    "    else:\n",
    "        conn = MongoClient(host, port)\n",
    "\n",
    "\n",
    "    return conn[db]\n",
    "\n",
    "\n",
    "def read_mongo(db, collection, host='localhost', port=27017, username=None, password=None, no_id=True):\n",
    "    \"\"\" Read from Mongo and Store into DataFrame \"\"\"\n",
    "\n",
    "    # Connect to MongoDB\n",
    "    db = connect_mongo(host=host, port=port, username=username, password=password, db=db)\n",
    "    \n",
    "    # Make a query to the specific DB and Collection\n",
    "    cursor = db[collection].find()\n",
    "    #print list(cursor)\n",
    "\n",
    "    # Expand the cursor and construct the DataFrame\n",
    "    df =  pd.DataFrame(list(cursor))\n",
    "\n",
    "    # Delete the _id\n",
    "    if no_id:\n",
    "        del df['_id']\n",
    "\n",
    "    return df.drop(\"__v\", axis=1)"
   ]
  },
  {
   "cell_type": "markdown",
   "metadata": {},
   "source": [
    "update the local copy of the blockchain"
   ]
  },
  {
   "cell_type": "code",
   "execution_count": 3,
   "metadata": {
    "collapsed": false
   },
   "outputs": [
    {
     "name": "stdout",
     "output_type": "stream",
     "text": [
      "script launched with pid: 63767\n",
      "{ hash: 'da791f7f82e4071aeb048481decc68bedf672abac093ec57d2314376199f14c1',\n",
      "  confirmations: 2,\n",
      "  size: 3384,\n",
      "  height: 47958,\n",
      "  version: 536870912,\n",
      "  versionHex: '20000000',\n",
      "  merkleroot: 'e5a9e710e8b1d0a170c95cc81d395d34977e639c0c648d0a6b48337ed7e8ddd9',\n",
      "  nameclaimroot: '0893e57b2deb3e73851a596424d852b1cf82683fdee43ff6fd3dea133b49f8c7',\n",
      "  tx: \n",
      "   [ 'dd5a416b256e5cb8ecc10bc8a957954974f041bd20860f1d95f41cba0169e86c',\n",
      "     'bf0b5cf4bf6fcfcead93056493957d56d75a4327100acf9763b280b3d12400fa',\n",
      "     '89258ad8afdaeb84d85da398451498c700da39770c695a26b16e90149a02ddf4',\n",
      "     '73539b7d308bcdb91047f8015bdcf1cea5dd736ceaa3e4b1bd312ee63e66dced',\n",
      "     'f10d6e8f33cdd7187bd97e3ab1857baca58255fe8deb26b1d13ec822ae28ea49',\n",
      "     'd0ef0207cfb08171865a406b4011cdfb8fab706ba1041b0665fe8ff35f8c9144',\n",
      "     '98a9b4be4b62db6a3f23ea615915863987c0683232c2746069616f13e304df39',\n",
      "     '4c449ec21a1822f6bf86f2b92f9a9599477ce7961af7d99f1a57bb151b1e4325',\n",
      "     '704c79fb839eb06c53b9c4907d700b5ddcb29feb686e9bc4dbb1d496a6282ae9',\n",
      "     '0c45791652273e6dbf7233b6ff8bcc1837533bc8bd609b3bdad1057a461ce3d9',\n",
      "     '4ad56c27faf59b7856af70897825e434304cf1eeb9749720cc5b438316f2e6c1',\n",
      "     '120960da583165601fedfdcd706be7d5316e250b0e7767158cf85217a4e7dbb9',\n",
      "     'a126d411aa73df117ba1c1acfd0491b1778b27c8c21246aa92db043803789c82',\n",
      "     '4766776290a56f7f17df9b3a0db393b61b435cfd9496a410502750cea81fca65',\n",
      "     'dde57379dbec88dbaa8c5fb800969f5924a4b80d378768cafa5be336bc479d1f' ],\n",
      "  time: 1474333277,\n",
      "  mediantime: 1474332895,\n",
      "  nonce: 277824894,\n",
      "  bits: '1a68a702',\n",
      "  difficulty: 160311.3175158759,\n",
      "  target: '00000000000068a7020000000000000000000000000000000000000000000000',\n",
      "  chainwork: '0000000000000000000000000000000000000000000000008f811a5a2be12686',\n",
      "  previousblockhash: '1837a8082da325c61f3ad4974504856f4d1fd42f6a0aed101ec1edfdf72d72a5',\n",
      "  nextblockhash: '25463fde1dbf09fcd83b4d3dcc53920751973f11dbe16d2f9f48fdc994cba127' }\n",
      "{ hash: '25463fde1dbf09fcd83b4d3dcc53920751973f11dbe16d2f9f48fdc994cba127',\n",
      "  confirmations: 1,\n",
      "  size: 8330,\n",
      "  height: 47959,\n",
      "  version: 536870912,\n",
      "  versionHex: '20000000',\n",
      "  merkleroot: '36523f84327f7f071ab086b2435fd3f0a75c8f0e29364864529b5d750e50144b',\n",
      "  nameclaimroot: '0893e57b2deb3e73851a596424d852b1cf82683fdee43ff6fd3dea133b49f8c7',\n",
      "  tx: \n",
      "   [ '7d8c3922060b66be171cc1dbc24dc8b910cb4b892988c8fa36e68db9629dae2b',\n",
      "     '009b7a47f385335be86f130ffa141fc5a3e06bcc858ea01e677e1754b3febcfe',\n",
      "     'ce5e7604c7b37ccb5b41c2778a964fc44979802daf753c7dbedb4bc7c81a0cf4',\n",
      "     '5b3c6be5546d46c2c9920f856247752d2c374ef2c608100b1487cedc7a0784ed',\n",
      "     'ba64dd036d16cb694e9854d6539dd6ed6d4efcd9eeddebae47594cc3356f99da',\n",
      "     '09505488c56ae6720d5f4af631607331d4fb3041c5ecec40eb8e3e2b63b2c8c8',\n",
      "     'cdcb6a470cb70edee8db75b46ad9ac5ecce2001b29bd55b02ae0580c6b77a4a4',\n",
      "     'e22885aec7fdc2daf8409e34753f7b8ca3b65b7db440f5e1781a39e5e4b8bb97',\n",
      "     '3c4b51bdf50f16b7ba0c4fa627ff09744d6263dd9b94b54904670d8b0ded137c',\n",
      "     '470c89c2b399a09ba9f18b31b1b3b5b5b12179ab10cea9b8831cf3b5f5277f76',\n",
      "     '1d3048d3fda4afc806dd26d80784427451617447b38c118e6cf3b591e0dc1b76',\n",
      "     'ec664e95275ce990548fb1f8c007c71f7644b390228bc801e1e8c8823cdfc473',\n",
      "     'e383b27fa756a9057593df80ea723e85da9a9f0fc5c98e95dfc8e38fce5a4d72',\n",
      "     '044a2fba50bb6eea8a3bd258698605cf9ac2641e0e311eeca3d01a94580da562',\n",
      "     '5a7bc43719b5efc2dd069f079eff58eafe6369831bd923147fe90d4eb1e4cf45',\n",
      "     '0fd8dc5446cc5a42d6afac944f59dca5c31b0fb8270692858af8f336a0538523',\n",
      "     '95d8604738d7d39c1c2e1d9de5aa81615c25e9efee33f051473e0e778b2f34fd',\n",
      "     'b2dc243019973877f7c8d57b3efad1c7a94b6e022f1106ac67045a4a6efeb2f7',\n",
      "     '419bb923ab6b9f908b3dacd236655f9c596a57e6170184ca70d6660d22baccef',\n",
      "     '28757ee955dd40665c9146543f32562ced70c2d1b75c9b3a28319d8e3ef569ea',\n",
      "     '9bb52b45ed805176e1ef348bf01a91ed80329e5c1bebe87681143f3630823adb',\n",
      "     '3970afdac4ebfb07cd3c8970e54f80bd3d575304e8840c99a6eed25ccee266bd',\n",
      "     'fc7624cd6b0d96fc23e280002f504f82822ad6ef7db984e44df5160afa46a8b0',\n",
      "     '3da20f27b45251c614b67abe37d13cc6a9d1be44223cf00fe72e2e40d84092a3',\n",
      "     '29be4c799467ac436cca6c034a8f0f1e666b0d106e05542b0d4690a45c112482',\n",
      "     'e6f31e2d4793fbd13b1efbc90c15d66926783c363b85d7b6e235eb9058c5696a',\n",
      "     '857797201c2c264d244bb927b2677b311eede2cdb8b5d679149043db99c95250',\n",
      "     'a187d6e687b138e31b1e0f44ff302adbef269f3451bbcedb700ec72b5fd5e64e',\n",
      "     'cbac9392ce2bd535d3e61b44e7fff79769cd8e2a01dc59e1e72566dd29401746',\n",
      "     '1618e62b61c34986b7805a2f93e56e595f868e5e3cf5afcd3ef81bac217d4b41',\n",
      "     '49ef18a40757f1032b6c9ec1d753862032359c09baa05fbb6eb298d8352a742d',\n",
      "     '8a1cbc061dcac145ddc14930782982ac4569bb157f7eed03a2ea36fae8dda916',\n",
      "     '117b6f787e4e60ea70ed7d7f5703b144add8ec37281043c3439ddacbab135a0b',\n",
      "     '3f3ed4f9dad48bcfd50293ad209e454d3ed81ea2c815bd90571f75076911f109',\n",
      "     '6c7c7efb7aed5477a9b832771882d10ba54fedb97ec24a0a56a039fe5d527107' ],\n",
      "  time: 1474333648,\n",
      "  mediantime: 1474332945,\n",
      "  nonce: 462934514,\n",
      "  bits: '1a68a702',\n",
      "  difficulty: 160311.3175158759,\n",
      "  target: '00000000000068a7020000000000000000000000000000000000000000000000',\n",
      "  chainwork: '0000000000000000000000000000000000000000000000008f838c93ef63a277',\n",
      "  previousblockhash: 'da791f7f82e4071aeb048481decc68bedf672abac093ec57d2314376199f14c1' }\n",
      "47959: 7d8c3922060b66be171cc1dbc24dc8b910cb4b892988c8fa36e68db9629dae2b\n",
      "47959: 009b7a47f385335be86f130ffa141fc5a3e06bcc858ea01e677e1754b3febcfe\n",
      "47959: ce5e7604c7b37ccb5b41c2778a964fc44979802daf753c7dbedb4bc7c81a0cf4\n",
      "47959: 5b3c6be5546d46c2c9920f856247752d2c374ef2c608100b1487cedc7a0784ed\n",
      "47959: ba64dd036d16cb694e9854d6539dd6ed6d4efcd9eeddebae47594cc3356f99da\n",
      "47959: 09505488c56ae6720d5f4af631607331d4fb3041c5ecec40eb8e3e2b63b2c8c8\n",
      "47959: cdcb6a470cb70edee8db75b46ad9ac5ecce2001b29bd55b02ae0580c6b77a4a4\n",
      "47959: e22885aec7fdc2daf8409e34753f7b8ca3b65b7db440f5e1781a39e5e4b8bb97\n",
      "47959: 3c4b51bdf50f16b7ba0c4fa627ff09744d6263dd9b94b54904670d8b0ded137c\n",
      "47959: 470c89c2b399a09ba9f18b31b1b3b5b5b12179ab10cea9b8831cf3b5f5277f76\n",
      "47959: 1d3048d3fda4afc806dd26d80784427451617447b38c118e6cf3b591e0dc1b76\n",
      "47959: ec664e95275ce990548fb1f8c007c71f7644b390228bc801e1e8c8823cdfc473\n",
      "47959: e383b27fa756a9057593df80ea723e85da9a9f0fc5c98e95dfc8e38fce5a4d72\n",
      "47959: 044a2fba50bb6eea8a3bd258698605cf9ac2641e0e311eeca3d01a94580da562\n",
      "47959: 5a7bc43719b5efc2dd069f079eff58eafe6369831bd923147fe90d4eb1e4cf45\n",
      "47959: 0fd8dc5446cc5a42d6afac944f59dca5c31b0fb8270692858af8f336a0538523\n",
      "47959: 95d8604738d7d39c1c2e1d9de5aa81615c25e9efee33f051473e0e778b2f34fd\n",
      "47959: b2dc243019973877f7c8d57b3efad1c7a94b6e022f1106ac67045a4a6efeb2f7\n",
      "47959: 419bb923ab6b9f908b3dacd236655f9c596a57e6170184ca70d6660d22baccef\n",
      "47959: 28757ee955dd40665c9146543f32562ced70c2d1b75c9b3a28319d8e3ef569ea\n",
      "47959: 9bb52b45ed805176e1ef348bf01a91ed80329e5c1bebe87681143f3630823adb\n",
      "47959: 3970afdac4ebfb07cd3c8970e54f80bd3d575304e8840c99a6eed25ccee266bd\n",
      "47959: fc7624cd6b0d96fc23e280002f504f82822ad6ef7db984e44df5160afa46a8b0\n",
      "47959: 3da20f27b45251c614b67abe37d13cc6a9d1be44223cf00fe72e2e40d84092a3\n",
      "47959: 29be4c799467ac436cca6c034a8f0f1e666b0d106e05542b0d4690a45c112482\n",
      "47959: e6f31e2d4793fbd13b1efbc90c15d66926783c363b85d7b6e235eb9058c5696a\n",
      "47959: 857797201c2c264d244bb927b2677b311eede2cdb8b5d679149043db99c95250\n",
      "47959: a187d6e687b138e31b1e0f44ff302adbef269f3451bbcedb700ec72b5fd5e64e\n",
      "47959: cbac9392ce2bd535d3e61b44e7fff79769cd8e2a01dc59e1e72566dd29401746\n",
      "47959: 1618e62b61c34986b7805a2f93e56e595f868e5e3cf5afcd3ef81bac217d4b41\n",
      "47959: 49ef18a40757f1032b6c9ec1d753862032359c09baa05fbb6eb298d8352a742d\n",
      "47959: 8a1cbc061dcac145ddc14930782982ac4569bb157f7eed03a2ea36fae8dda916\n",
      "47959: 117b6f787e4e60ea70ed7d7f5703b144add8ec37281043c3439ddacbab135a0b\n",
      "47959: 3f3ed4f9dad48bcfd50293ad209e454d3ed81ea2c815bd90571f75076911f109\n",
      "47959: 6c7c7efb7aed5477a9b832771882d10ba54fedb97ec24a0a56a039fe5d527107\n",
      "update complete (block: 47959)\n"
     ]
    }
   ],
   "source": [
    "%%bash\n",
    "cd ~/lbry-explorer\n",
    "node scripts/sync.js index update"
   ]
  },
  {
   "cell_type": "markdown",
   "metadata": {},
   "source": [
    "load the transaction data from the local copy of the blockchain"
   ]
  },
  {
   "cell_type": "code",
   "execution_count": 4,
   "metadata": {
    "collapsed": false
   },
   "outputs": [],
   "source": [
    "db = \"explorerdb\"\n",
    "tx_df = read_mongo(db, \"txes\", host='localhost', port=27017, username=\"zargham\", password=password)\n",
    "\n",
    "tz = pytz.timezone('America/Montreal')\n",
    "tx_df[\"datetime\"] = tx_df.timestamp.map(lambda t: datetime.datetime.fromtimestamp(int(t), tz))"
   ]
  },
  {
   "cell_type": "markdown",
   "metadata": {},
   "source": [
    "Load dictionary of LBRY business addresses with labels"
   ]
  },
  {
   "cell_type": "code",
   "execution_count": 5,
   "metadata": {
    "collapsed": true
   },
   "outputs": [],
   "source": [
    "labels = {\"rEQKyb7nd7UUGyEEn5xRkk1fgXdTCf2ZCg\": {\"label\":\"LBRY Team\", \"type\":\"info\", \"url\":\"https://lbry.io/what#credits\"},\n",
    "      \"bWbFyN8CJAghwavfRDuEfmv71swkapBcuy\": {\"label\":\"LBRY Hot Wallet\", \"type\":\"info\", \"url\":\"\"},\n",
    "      \"rVRMmGLZenVXpT1NwYMGcnwFc642kEgWTV\": {\"label\":\"Strategic Partners\", \"type\":\"info\", \"url\":\"https://lbry.io/what#credits\"},\n",
    "      \"bLPbiXBp6Vr3NSnsHzDsLNzoy5o36re9Cz\": {\"label\":\"Investor\", \"type\":\"info\", \"url\":\"https://lbry.io/news/mysterious-100k-lbc-revealed\"},\n",
    "      \"rTZF9RvfkLJ6hwCwERwFd7dppRMeddKjpe\": {\"label\":\"LBRY Team\", \"type\":\"info\", \"url\":\"https://lbry.io/what#credits\"},\n",
    "      \"bVUrbCK8hcZ5XWti7b9eNxKEBxzc1rr393\": {\"label\":\"LBRY Hot Wallet\", \"type\":\"info\", \"url\":\"\"},\n",
    "      \"bHW58d37s1hBjj3wPBkn5zpCX3F8ZW3uWf\": {\"label\":\"LBRY Team Escrow (premine)\", \"type\":\"info\", \"url\":\"https://lbry.io/what#credits\"},\n",
    "      \"r9DarmxyPjWkF7ocyxMzaNZN3a9gJvNTZJ\": {\"label\":\"Strategic Partners\", \"type\":\"info\", \"url\":\"https://lbry.io/what#credits\"},\n",
    "      \"rMT5Sg8SyFP3ax2PRaweRCRZoMeYw4znEi\": {\"label\":\"Adoption Programs\", \"type\":\"info\", \"url\":\"https://lbry.io/what#credits\"},\n",
    "      \"bDzuP6Sawe7tadVKR7dmPW1JFYK9ELnjra\": {\"label\":\"LBRY Hot Wallet\", \"type\":\"info\", \"url\":\"\"},\n",
    "      \"bFgohv4wprdCEtW2m5EVQyVNtxp4NxQMXi\": {\"label\":\"LBRY Hot Wallet\", \"type\":\"info\", \"url\":\"\"},\n",
    "      \"rRmURzvpHTysU4xUSp9CXeosBTbYfKs7n5\": {\"label\":\"Adoption Programs\", \"type\":\"info\", \"url\":\"https://lbry.io/what#credits\"}\n",
    "    }"
   ]
  },
  {
   "cell_type": "markdown",
   "metadata": {},
   "source": [
    "first I want to validate the block rewards empirically"
   ]
  },
  {
   "cell_type": "code",
   "execution_count": 16,
   "metadata": {
    "collapsed": true
   },
   "outputs": [],
   "source": [
    "cb_df=tx_df[tx_df.vin.map(lambda X: \"coinbase\" in [x['addresses'] for x in X] )].copy()"
   ]
  },
  {
   "cell_type": "code",
   "execution_count": 17,
   "metadata": {
    "collapsed": false
   },
   "outputs": [],
   "source": [
    "cb_df[\"miner_address\"] = cb_df.vout.map(lambda x: x[0]['addresses'])\n",
    "cb_df[\"empirical_reward\"]  = cb_df.vout.map(lambda x: x[0]['amount'])"
   ]
  },
  {
   "cell_type": "code",
   "execution_count": 25,
   "metadata": {
    "collapsed": false
   },
   "outputs": [
    {
     "data": {
      "text/plain": [
       "<matplotlib.axes._subplots.AxesSubplot at 0x161588590>"
      ]
     },
     "execution_count": 25,
     "metadata": {},
     "output_type": "execute_result"
    },
    {
     "data": {
      "image/png": "[encoded data removed]",
      "text/plain": [
       "<matplotlib.figure.Figure at 0x1893efe90>"
      ]
     },
     "metadata": {},
     "output_type": "display_data"
    }
   ],
   "source": [
    "cb_df[cb_df.blockindex>40000].plot(x=\"datetime\", y=\"empirical_reward\")"
   ]
  },
  {
   "cell_type": "code",
   "execution_count": 24,
   "metadata": {
    "collapsed": false
   },
   "outputs": [
    {
     "data": {
      "text/html": [
       "<div>\n",
       "<table border=\"1\" class=\"dataframe\">\n",
       "  <thead>\n",
       "    <tr style=\"text-align: right;\">\n",
       "      <th></th>\n",
       "      <th>blockindex</th>\n",
       "      <th>empirical_reward</th>\n",
       "    </tr>\n",
       "  </thead>\n",
       "  <tbody>\n",
       "    <tr>\n",
       "      <th>count</th>\n",
       "      <td>47959.000000</td>\n",
       "      <td>4.795900e+04</td>\n",
       "    </tr>\n",
       "    <tr>\n",
       "      <th>mean</th>\n",
       "      <td>23980.000000</td>\n",
       "      <td>1.929462e+10</td>\n",
       "    </tr>\n",
       "    <tr>\n",
       "      <th>std</th>\n",
       "      <td>13844.715117</td>\n",
       "      <td>1.343936e+10</td>\n",
       "    </tr>\n",
       "    <tr>\n",
       "      <th>min</th>\n",
       "      <td>1.000000</td>\n",
       "      <td>1.000000e+08</td>\n",
       "    </tr>\n",
       "    <tr>\n",
       "      <th>25%</th>\n",
       "      <td>11990.500000</td>\n",
       "      <td>7.000104e+09</td>\n",
       "    </tr>\n",
       "    <tr>\n",
       "      <th>50%</th>\n",
       "      <td>23980.000000</td>\n",
       "      <td>1.900014e+10</td>\n",
       "    </tr>\n",
       "    <tr>\n",
       "      <th>75%</th>\n",
       "      <td>35969.500000</td>\n",
       "      <td>3.100009e+10</td>\n",
       "    </tr>\n",
       "    <tr>\n",
       "      <th>max</th>\n",
       "      <td>47959.000000</td>\n",
       "      <td>4.300032e+10</td>\n",
       "    </tr>\n",
       "  </tbody>\n",
       "</table>\n",
       "</div>"
      ],
      "text/plain": [
       "         blockindex  empirical_reward\n",
       "count  47959.000000      4.795900e+04\n",
       "mean   23980.000000      1.929462e+10\n",
       "std    13844.715117      1.343936e+10\n",
       "min        1.000000      1.000000e+08\n",
       "25%    11990.500000      7.000104e+09\n",
       "50%    23980.000000      1.900014e+10\n",
       "75%    35969.500000      3.100009e+10\n",
       "max    47959.000000      4.300032e+10"
      ]
     },
     "execution_count": 24,
     "metadata": {},
     "output_type": "execute_result"
    }
   ],
   "source": [
    "cb_df[[\"blockindex\", \"empirical_reward\"]]"
   ]
  },
  {
   "cell_type": "code",
   "execution_count": null,
   "metadata": {
    "collapsed": true
   },
   "outputs": [],
   "source": []
  }
 ],
 "metadata": {
  "kernelspec": {
   "display_name": "Python 2",
   "language": "python",
   "name": "python2"
  },
  "language_info": {
   "codemirror_mode": {
    "name": "ipython",
    "version": 2
   },
   "file_extension": ".py",
   "mimetype": "text/x-python",
   "name": "python",
   "nbconvert_exporter": "python",
   "pygments_lexer": "ipython2",
   "version": "2.7.12"
  }
 },
 "nbformat": 4,
 "nbformat_minor": 0
}
