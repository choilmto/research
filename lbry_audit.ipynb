{
 "cells": [
  {
   "cell_type": "code",
   "execution_count": 1,
   "metadata": {
    "collapsed": false
   },
   "outputs": [
    {
     "name": "stdout",
     "output_type": "stream",
     "text": [
      "········\n"
     ]
    }
   ],
   "source": [
    "import pandas as pd\n",
    "from pymongo import MongoClient\n",
    "import matplotlib.pyplot as plt\n",
    "import datetime\n",
    "%matplotlib inline\n",
    "\n",
    "import getpass\n",
    "password = getpass.getpass()"
   ]
  },
  {
   "cell_type": "code",
   "execution_count": 2,
   "metadata": {
    "collapsed": true
   },
   "outputs": [],
   "source": [
    "def connect_mongo(host, port, username, password, db):\n",
    "    \"\"\" A util for making a connection to mongo \"\"\"\n",
    "\n",
    "    if username and password:\n",
    "        mongo_uri = 'mongodb://%s:%s@%s:%s/%s' % (username, password, host, port, db)\n",
    "        conn = MongoClient(mongo_uri)\n",
    "    else:\n",
    "        conn = MongoClient(host, port)\n",
    "\n",
    "\n",
    "    return conn[db]\n",
    "\n",
    "\n",
    "def read_mongo(db, collection, host='localhost', port=27017, username=None, password=None, no_id=True):\n",
    "    \"\"\" Read from Mongo and Store into DataFrame \"\"\"\n",
    "\n",
    "    # Connect to MongoDB\n",
    "    db = connect_mongo(host=host, port=port, username=username, password=password, db=db)\n",
    "    \n",
    "    # Make a query to the specific DB and Collection\n",
    "    cursor = db[collection].find()\n",
    "    #print list(cursor)\n",
    "\n",
    "    # Expand the cursor and construct the DataFrame\n",
    "    df =  pd.DataFrame(list(cursor))\n",
    "\n",
    "    # Delete the _id\n",
    "    if no_id:\n",
    "        del df['_id']\n",
    "\n",
    "    return df.drop(\"__v\", axis=1)"
   ]
  },
  {
   "cell_type": "markdown",
   "metadata": {},
   "source": [
    "update the local copy of the blockchain"
   ]
  },
  {
   "cell_type": "code",
   "execution_count": 3,
   "metadata": {
    "collapsed": false
   },
   "outputs": [
    {
     "name": "stdout",
     "output_type": "stream",
     "text": [
      "script launched with pid: 63606\n",
      "{ hash: 'da791f7f82e4071aeb048481decc68bedf672abac093ec57d2314376199f14c1',\n",
      "  confirmations: 1,\n",
      "  size: 3384,\n",
      "  height: 47958,\n",
      "  version: 536870912,\n",
      "  versionHex: '20000000',\n",
      "  merkleroot: 'e5a9e710e8b1d0a170c95cc81d395d34977e639c0c648d0a6b48337ed7e8ddd9',\n",
      "  nameclaimroot: '0893e57b2deb3e73851a596424d852b1cf82683fdee43ff6fd3dea133b49f8c7',\n",
      "  tx: \n",
      "   [ 'dd5a416b256e5cb8ecc10bc8a957954974f041bd20860f1d95f41cba0169e86c',\n",
      "     'bf0b5cf4bf6fcfcead93056493957d56d75a4327100acf9763b280b3d12400fa',\n",
      "     '89258ad8afdaeb84d85da398451498c700da39770c695a26b16e90149a02ddf4',\n",
      "     '73539b7d308bcdb91047f8015bdcf1cea5dd736ceaa3e4b1bd312ee63e66dced',\n",
      "     'f10d6e8f33cdd7187bd97e3ab1857baca58255fe8deb26b1d13ec822ae28ea49',\n",
      "     'd0ef0207cfb08171865a406b4011cdfb8fab706ba1041b0665fe8ff35f8c9144',\n",
      "     '98a9b4be4b62db6a3f23ea615915863987c0683232c2746069616f13e304df39',\n",
      "     '4c449ec21a1822f6bf86f2b92f9a9599477ce7961af7d99f1a57bb151b1e4325',\n",
      "     '704c79fb839eb06c53b9c4907d700b5ddcb29feb686e9bc4dbb1d496a6282ae9',\n",
      "     '0c45791652273e6dbf7233b6ff8bcc1837533bc8bd609b3bdad1057a461ce3d9',\n",
      "     '4ad56c27faf59b7856af70897825e434304cf1eeb9749720cc5b438316f2e6c1',\n",
      "     '120960da583165601fedfdcd706be7d5316e250b0e7767158cf85217a4e7dbb9',\n",
      "     'a126d411aa73df117ba1c1acfd0491b1778b27c8c21246aa92db043803789c82',\n",
      "     '4766776290a56f7f17df9b3a0db393b61b435cfd9496a410502750cea81fca65',\n",
      "     'dde57379dbec88dbaa8c5fb800969f5924a4b80d378768cafa5be336bc479d1f' ],\n",
      "  time: 1474333277,\n",
      "  mediantime: 1474332895,\n",
      "  nonce: 277824894,\n",
      "  bits: '1a68a702',\n",
      "  difficulty: 160311.3175158759,\n",
      "  target: '00000000000068a7020000000000000000000000000000000000000000000000',\n",
      "  chainwork: '0000000000000000000000000000000000000000000000008f811a5a2be12686',\n",
      "  previousblockhash: '1837a8082da325c61f3ad4974504856f4d1fd42f6a0aed101ec1edfdf72d72a5' }\n",
      "update complete (block: 47958)\n"
     ]
    }
   ],
   "source": [
    "%%bash\n",
    "cd ~/lbry-explorer\n",
    "node scripts/sync.js index update"
   ]
  },
  {
   "cell_type": "markdown",
   "metadata": {},
   "source": [
    "load the transaction data from the local copy of the blockchain"
   ]
  },
  {
   "cell_type": "code",
   "execution_count": 4,
   "metadata": {
    "collapsed": false
   },
   "outputs": [],
   "source": [
    "db = \"explorerdb\"\n",
    "tx_df = read_mongo(db, \"txes\", host='localhost', port=27017, username=\"zargham\", password=password)"
   ]
  },
  {
   "cell_type": "code",
   "execution_count": null,
   "metadata": {
    "collapsed": false
   },
   "outputs": [],
   "source": []
  },
  {
   "cell_type": "code",
   "execution_count": null,
   "metadata": {
    "collapsed": true
   },
   "outputs": [],
   "source": []
  }
 ],
 "metadata": {
  "kernelspec": {
   "display_name": "Python 2",
   "language": "python",
   "name": "python2"
  },
  "language_info": {
   "codemirror_mode": {
    "name": "ipython",
    "version": 2
   },
   "file_extension": ".py",
   "mimetype": "text/x-python",
   "name": "python",
   "nbconvert_exporter": "python",
   "pygments_lexer": "ipython2",
   "version": "2.7.12"
  }
 },
 "nbformat": 4,
 "nbformat_minor": 0
}
