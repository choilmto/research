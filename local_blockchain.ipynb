{
 "cells": [
  {
   "cell_type": "markdown",
   "metadata": {},
   "source": [
    "Due to challenges faced trying to access the blockchain data en masse, i created a local instance of the lbry-explorer and this notebook leverages the mongoDB data source that exists as part of the lbry-explorer."
   ]
  },
  {
   "cell_type": "code",
   "execution_count": 1,
   "metadata": {
    "collapsed": false
   },
   "outputs": [],
   "source": [
    "import pandas as pd\n",
    "from pymongo import MongoClient\n",
    "import matplotlib.pyplot as plt\n",
    "%matplotlib inline"
   ]
  },
  {
   "cell_type": "code",
   "execution_count": 2,
   "metadata": {
    "collapsed": false
   },
   "outputs": [
    {
     "name": "stdout",
     "output_type": "stream",
     "text": [
      "········\n"
     ]
    }
   ],
   "source": [
    "import getpass\n",
    "password = getpass.getpass()"
   ]
  },
  {
   "cell_type": "code",
   "execution_count": 20,
   "metadata": {
    "collapsed": true
   },
   "outputs": [],
   "source": [
    "def connect_mongo(host, port, username, password, db):\n",
    "    \"\"\" A util for making a connection to mongo \"\"\"\n",
    "\n",
    "    if username and password:\n",
    "        mongo_uri = 'mongodb://%s:%s@%s:%s/%s' % (username, password, host, port, db)\n",
    "        conn = MongoClient(mongo_uri)\n",
    "    else:\n",
    "        conn = MongoClient(host, port)\n",
    "\n",
    "\n",
    "    return conn[db]\n",
    "\n",
    "\n",
    "def read_mongo(db, collection, host='localhost', port=27017, username=None, password=None, no_id=True):\n",
    "    \"\"\" Read from Mongo and Store into DataFrame \"\"\"\n",
    "\n",
    "    # Connect to MongoDB\n",
    "    db = connect_mongo(host=host, port=port, username=username, password=password, db=db)\n",
    "    \n",
    "    # Make a query to the specific DB and Collection\n",
    "    cursor = db[collection].find()\n",
    "    #print list(cursor)\n",
    "\n",
    "    # Expand the cursor and construct the DataFrame\n",
    "    df =  pd.DataFrame(list(cursor))\n",
    "\n",
    "    # Delete the _id\n",
    "    if no_id:\n",
    "        del df['_id']\n",
    "\n",
    "    return df.drop(\"__v\", axis=1)"
   ]
  },
  {
   "cell_type": "markdown",
   "metadata": {},
   "source": [
    "Collections:\n",
    "    addresses,\n",
    "    markets,\n",
    "    richlists,\n",
    "    stats,\n",
    "    txes"
   ]
  },
  {
   "cell_type": "code",
   "execution_count": 21,
   "metadata": {
    "collapsed": true
   },
   "outputs": [],
   "source": [
    "db = \"explorerdb\"\n",
    "collection = \"txes\""
   ]
  },
  {
   "cell_type": "code",
   "execution_count": 22,
   "metadata": {
    "collapsed": false
   },
   "outputs": [],
   "source": [
    "df = read_mongo(db, collection, host='localhost', port=27017, username=\"zargham\", password=password)"
   ]
  },
  {
   "cell_type": "code",
   "execution_count": 23,
   "metadata": {
    "collapsed": false
   },
   "outputs": [
    {
     "data": {
      "text/html": [
       "<div>\n",
       "<table border=\"1\" class=\"dataframe\">\n",
       "  <thead>\n",
       "    <tr style=\"text-align: right;\">\n",
       "      <th></th>\n",
       "      <th>blockhash</th>\n",
       "      <th>blockindex</th>\n",
       "      <th>timestamp</th>\n",
       "      <th>total</th>\n",
       "      <th>txid</th>\n",
       "      <th>vin</th>\n",
       "      <th>vout</th>\n",
       "    </tr>\n",
       "  </thead>\n",
       "  <tbody>\n",
       "    <tr>\n",
       "      <th>0</th>\n",
       "      <td>decb9e2cca03a419fd9cca0cb2b1d5ad11b088f22f8f38...</td>\n",
       "      <td>1</td>\n",
       "      <td>1466646588</td>\n",
       "      <td>100000000</td>\n",
       "      <td>5dda81f42196d2647a173b008d729cf778d3f609adf846...</td>\n",
       "      <td>[{u'amount': 100000000, u'addresses': u'coinba...</td>\n",
       "      <td>[{u'amount': 100000000, u'addresses': u'bZi1WE...</td>\n",
       "    </tr>\n",
       "    <tr>\n",
       "      <th>1</th>\n",
       "      <td>28547a040490cc48c6c130622631bb52bc5388f98fc287...</td>\n",
       "      <td>2</td>\n",
       "      <td>1466646589</td>\n",
       "      <td>100000000</td>\n",
       "      <td>479dbab52d36a3223f0c4c2f2fc7fbdd44154917af3c65...</td>\n",
       "      <td>[{u'amount': 100000000, u'addresses': u'coinba...</td>\n",
       "      <td>[{u'amount': 100000000, u'addresses': u'bZi1WE...</td>\n",
       "    </tr>\n",
       "    <tr>\n",
       "      <th>2</th>\n",
       "      <td>c919ad56b3fdfc23f55bb9fba14d1211f3972ff63b2021...</td>\n",
       "      <td>3</td>\n",
       "      <td>1466646589</td>\n",
       "      <td>100000000</td>\n",
       "      <td>1a76ca5e68384568197beb1e6da885e10e1617a7364592...</td>\n",
       "      <td>[{u'amount': 100000000, u'addresses': u'coinba...</td>\n",
       "      <td>[{u'amount': 100000000, u'addresses': u'bZi1WE...</td>\n",
       "    </tr>\n",
       "    <tr>\n",
       "      <th>3</th>\n",
       "      <td>d557e01dffd10b7dddc84f7c3596176bd97cba36b3f67f...</td>\n",
       "      <td>4</td>\n",
       "      <td>1466646590</td>\n",
       "      <td>100000000</td>\n",
       "      <td>0cc8fe1387560146d4a315a6d89c117207940c5ba9b750...</td>\n",
       "      <td>[{u'amount': 100000000, u'addresses': u'coinba...</td>\n",
       "      <td>[{u'amount': 100000000, u'addresses': u'bZi1WE...</td>\n",
       "    </tr>\n",
       "    <tr>\n",
       "      <th>4</th>\n",
       "      <td>4ca73d305d9dcde059c482593df71c75ca89a74967ed13...</td>\n",
       "      <td>5</td>\n",
       "      <td>1466646590</td>\n",
       "      <td>100000000</td>\n",
       "      <td>79c5eccaf593a860975f756660df64520e8666753b1ae8...</td>\n",
       "      <td>[{u'amount': 100000000, u'addresses': u'coinba...</td>\n",
       "      <td>[{u'amount': 100000000, u'addresses': u'bZi1WE...</td>\n",
       "    </tr>\n",
       "  </tbody>\n",
       "</table>\n",
       "</div>"
      ],
      "text/plain": [
       "                                           blockhash  blockindex   timestamp  \\\n",
       "0  decb9e2cca03a419fd9cca0cb2b1d5ad11b088f22f8f38...           1  1466646588   \n",
       "1  28547a040490cc48c6c130622631bb52bc5388f98fc287...           2  1466646589   \n",
       "2  c919ad56b3fdfc23f55bb9fba14d1211f3972ff63b2021...           3  1466646589   \n",
       "3  d557e01dffd10b7dddc84f7c3596176bd97cba36b3f67f...           4  1466646590   \n",
       "4  4ca73d305d9dcde059c482593df71c75ca89a74967ed13...           5  1466646590   \n",
       "\n",
       "       total                                               txid  \\\n",
       "0  100000000  5dda81f42196d2647a173b008d729cf778d3f609adf846...   \n",
       "1  100000000  479dbab52d36a3223f0c4c2f2fc7fbdd44154917af3c65...   \n",
       "2  100000000  1a76ca5e68384568197beb1e6da885e10e1617a7364592...   \n",
       "3  100000000  0cc8fe1387560146d4a315a6d89c117207940c5ba9b750...   \n",
       "4  100000000  79c5eccaf593a860975f756660df64520e8666753b1ae8...   \n",
       "\n",
       "                                                 vin  \\\n",
       "0  [{u'amount': 100000000, u'addresses': u'coinba...   \n",
       "1  [{u'amount': 100000000, u'addresses': u'coinba...   \n",
       "2  [{u'amount': 100000000, u'addresses': u'coinba...   \n",
       "3  [{u'amount': 100000000, u'addresses': u'coinba...   \n",
       "4  [{u'amount': 100000000, u'addresses': u'coinba...   \n",
       "\n",
       "                                                vout  \n",
       "0  [{u'amount': 100000000, u'addresses': u'bZi1WE...  \n",
       "1  [{u'amount': 100000000, u'addresses': u'bZi1WE...  \n",
       "2  [{u'amount': 100000000, u'addresses': u'bZi1WE...  \n",
       "3  [{u'amount': 100000000, u'addresses': u'bZi1WE...  \n",
       "4  [{u'amount': 100000000, u'addresses': u'bZi1WE...  "
      ]
     },
     "execution_count": 23,
     "metadata": {},
     "output_type": "execute_result"
    }
   ],
   "source": [
    "df.head()"
   ]
  },
  {
   "cell_type": "code",
   "execution_count": null,
   "metadata": {
    "collapsed": true
   },
   "outputs": [],
   "source": []
  }
 ],
 "metadata": {
  "kernelspec": {
   "display_name": "Python 2",
   "language": "python",
   "name": "python2"
  },
  "language_info": {
   "codemirror_mode": {
    "name": "ipython",
    "version": 2
   },
   "file_extension": ".py",
   "mimetype": "text/x-python",
   "name": "python",
   "nbconvert_exporter": "python",
   "pygments_lexer": "ipython2",
   "version": "2.7.12"
  }
 },
 "nbformat": 4,
 "nbformat_minor": 0
}
