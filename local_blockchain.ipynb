{
 "cells": [
  {
   "cell_type": "markdown",
   "metadata": {},
   "source": [
    "Due to challenges faced trying to access the blockchain data en masse, i created a local instance of the lbry-explorer and this notebook leverages the mongoDB data source that exists as part of the lbry-explorer."
   ]
  },
  {
   "cell_type": "code",
   "execution_count": 51,
   "metadata": {
    "collapsed": false
   },
   "outputs": [],
   "source": [
    "import pandas as pd\n",
    "from pymongo import MongoClient\n",
    "import matplotlib.pyplot as plt\n",
    "import datetime\n",
    "%matplotlib inline"
   ]
  },
  {
   "cell_type": "code",
   "execution_count": 2,
   "metadata": {
    "collapsed": false
   },
   "outputs": [
    {
     "name": "stdout",
     "output_type": "stream",
     "text": [
      "········\n"
     ]
    }
   ],
   "source": [
    "import getpass\n",
    "password = getpass.getpass()"
   ]
  },
  {
   "cell_type": "code",
   "execution_count": 20,
   "metadata": {
    "collapsed": true
   },
   "outputs": [],
   "source": [
    "def connect_mongo(host, port, username, password, db):\n",
    "    \"\"\" A util for making a connection to mongo \"\"\"\n",
    "\n",
    "    if username and password:\n",
    "        mongo_uri = 'mongodb://%s:%s@%s:%s/%s' % (username, password, host, port, db)\n",
    "        conn = MongoClient(mongo_uri)\n",
    "    else:\n",
    "        conn = MongoClient(host, port)\n",
    "\n",
    "\n",
    "    return conn[db]\n",
    "\n",
    "\n",
    "def read_mongo(db, collection, host='localhost', port=27017, username=None, password=None, no_id=True):\n",
    "    \"\"\" Read from Mongo and Store into DataFrame \"\"\"\n",
    "\n",
    "    # Connect to MongoDB\n",
    "    db = connect_mongo(host=host, port=port, username=username, password=password, db=db)\n",
    "    \n",
    "    # Make a query to the specific DB and Collection\n",
    "    cursor = db[collection].find()\n",
    "    #print list(cursor)\n",
    "\n",
    "    # Expand the cursor and construct the DataFrame\n",
    "    df =  pd.DataFrame(list(cursor))\n",
    "\n",
    "    # Delete the _id\n",
    "    if no_id:\n",
    "        del df['_id']\n",
    "\n",
    "    return df.drop(\"__v\", axis=1)"
   ]
  },
  {
   "cell_type": "markdown",
   "metadata": {},
   "source": [
    "Collections:\n",
    "    addresses,\n",
    "    markets,\n",
    "    richlists,\n",
    "    stats,\n",
    "    txes"
   ]
  },
  {
   "cell_type": "code",
   "execution_count": 39,
   "metadata": {
    "collapsed": true
   },
   "outputs": [],
   "source": [
    "db = \"explorerdb\""
   ]
  },
  {
   "cell_type": "code",
   "execution_count": 40,
   "metadata": {
    "collapsed": false
   },
   "outputs": [],
   "source": [
    "address_df = read_mongo(db, \"addresses\", host='localhost', port=27017, username=\"zargham\", password=password)"
   ]
  },
  {
   "cell_type": "code",
   "execution_count": 41,
   "metadata": {
    "collapsed": false
   },
   "outputs": [
    {
     "data": {
      "text/html": [
       "<div>\n",
       "<table border=\"1\" class=\"dataframe\">\n",
       "  <thead>\n",
       "    <tr style=\"text-align: right;\">\n",
       "      <th></th>\n",
       "      <th>a_id</th>\n",
       "      <th>balance</th>\n",
       "      <th>received</th>\n",
       "      <th>sent</th>\n",
       "      <th>txs</th>\n",
       "    </tr>\n",
       "  </thead>\n",
       "  <tbody>\n",
       "    <tr>\n",
       "      <th>0</th>\n",
       "      <td>coinbase</td>\n",
       "      <td>0</td>\n",
       "      <td>0</td>\n",
       "      <td>6.310887e+14</td>\n",
       "      <td>[{u'type': u'vin', u'addresses': u'5dda81f4219...</td>\n",
       "    </tr>\n",
       "  </tbody>\n",
       "</table>\n",
       "</div>"
      ],
      "text/plain": [
       "       a_id  balance  received          sent  \\\n",
       "0  coinbase        0         0  6.310887e+14   \n",
       "\n",
       "                                                 txs  \n",
       "0  [{u'type': u'vin', u'addresses': u'5dda81f4219...  "
      ]
     },
     "execution_count": 41,
     "metadata": {},
     "output_type": "execute_result"
    }
   ],
   "source": [
    "address_df[address_df.a_id.map(lambda s: bool((s[0] != \"b\") & (s[0] !=\"r\")))].head()"
   ]
  },
  {
   "cell_type": "code",
   "execution_count": 42,
   "metadata": {
    "collapsed": true
   },
   "outputs": [],
   "source": [
    "labels = {\"rEQKyb7nd7UUGyEEn5xRkk1fgXdTCf2ZCg\": {\"label\":\"LBRY Team\", \"type\":\"info\", \"url\":\"https://lbry.io/what#credits\"},\n",
    "      \"bWbFyN8CJAghwavfRDuEfmv71swkapBcuy\": {\"label\":\"LBRY Hot Wallet\", \"type\":\"info\", \"url\":\"\"},\n",
    "      \"rVRMmGLZenVXpT1NwYMGcnwFc642kEgWTV\": {\"label\":\"Strategic Partners\", \"type\":\"info\", \"url\":\"https://lbry.io/what#credits\"},\n",
    "      \"bLPbiXBp6Vr3NSnsHzDsLNzoy5o36re9Cz\": {\"label\":\"Investor\", \"type\":\"info\", \"url\":\"https://lbry.io/news/mysterious-100k-lbc-revealed\"},\n",
    "      \"rTZF9RvfkLJ6hwCwERwFd7dppRMeddKjpe\": {\"label\":\"LBRY Team\", \"type\":\"info\", \"url\":\"https://lbry.io/what#credits\"},\n",
    "      \"bVUrbCK8hcZ5XWti7b9eNxKEBxzc1rr393\": {\"label\":\"LBRY Hot Wallet\", \"type\":\"info\", \"url\":\"\"},\n",
    "      \"bHW58d37s1hBjj3wPBkn5zpCX3F8ZW3uWf\": {\"label\":\"LBRY Team Escrow (premine)\", \"type\":\"info\", \"url\":\"https://lbry.io/what#credits\"},\n",
    "      \"r9DarmxyPjWkF7ocyxMzaNZN3a9gJvNTZJ\": {\"label\":\"Strategic Partners\", \"type\":\"info\", \"url\":\"https://lbry.io/what#credits\"},\n",
    "      \"rMT5Sg8SyFP3ax2PRaweRCRZoMeYw4znEi\": {\"label\":\"Adoption Programs\", \"type\":\"info\", \"url\":\"https://lbry.io/what#credits\"},\n",
    "      \"bDzuP6Sawe7tadVKR7dmPW1JFYK9ELnjra\": {\"label\":\"LBRY Hot Wallet\", \"type\":\"info\", \"url\":\"\"},\n",
    "      \"bFgohv4wprdCEtW2m5EVQyVNtxp4NxQMXi\": {\"label\":\"LBRY Hot Wallet\", \"type\":\"info\", \"url\":\"\"},\n",
    "      \"rRmURzvpHTysU4xUSp9CXeosBTbYfKs7n5\": {\"label\":\"Adoption Programs\", \"type\":\"info\", \"url\":\"https://lbry.io/what#credits\"}\n",
    "    }"
   ]
  },
  {
   "cell_type": "code",
   "execution_count": 46,
   "metadata": {
    "collapsed": true
   },
   "outputs": [],
   "source": [
    "def get_label(address):\n",
    "    if address in labels.keys():\n",
    "        return labels[address][\"label\"]\n",
    "    else:\n",
    "        return \"unknown\""
   ]
  },
  {
   "cell_type": "code",
   "execution_count": 47,
   "metadata": {
    "collapsed": false
   },
   "outputs": [],
   "source": [
    "address_df[\"label\"] = address_df.a_id.map(get_label)"
   ]
  },
  {
   "cell_type": "code",
   "execution_count": 48,
   "metadata": {
    "collapsed": false
   },
   "outputs": [
    {
     "data": {
      "text/html": [
       "<div>\n",
       "<table border=\"1\" class=\"dataframe\">\n",
       "  <thead>\n",
       "    <tr style=\"text-align: right;\">\n",
       "      <th></th>\n",
       "      <th>a_id</th>\n",
       "      <th>balance</th>\n",
       "      <th>received</th>\n",
       "      <th>sent</th>\n",
       "      <th>txs</th>\n",
       "      <th>label</th>\n",
       "    </tr>\n",
       "  </thead>\n",
       "  <tbody>\n",
       "    <tr>\n",
       "      <th>404</th>\n",
       "      <td>rEQKyb7nd7UUGyEEn5xRkk1fgXdTCf2ZCg</td>\n",
       "      <td>0.000000e+00</td>\n",
       "      <td>1.999000e+16</td>\n",
       "      <td>1.999000e+16</td>\n",
       "      <td>[{u'type': u'vout', u'addresses': u'32f0ab6b2a...</td>\n",
       "      <td>LBRY Team</td>\n",
       "    </tr>\n",
       "    <tr>\n",
       "      <th>406</th>\n",
       "      <td>rMT5Sg8SyFP3ax2PRaweRCRZoMeYw4znEi</td>\n",
       "      <td>0.000000e+00</td>\n",
       "      <td>3.980000e+16</td>\n",
       "      <td>3.980000e+16</td>\n",
       "      <td>[{u'type': u'vout', u'addresses': u'781c100a80...</td>\n",
       "      <td>Adoption Programs</td>\n",
       "    </tr>\n",
       "    <tr>\n",
       "      <th>410</th>\n",
       "      <td>r9DarmxyPjWkF7ocyxMzaNZN3a9gJvNTZJ</td>\n",
       "      <td>0.000000e+00</td>\n",
       "      <td>1.000000e+16</td>\n",
       "      <td>1.000000e+16</td>\n",
       "      <td>[{u'type': u'vout', u'addresses': u'9600945091...</td>\n",
       "      <td>Strategic Partners</td>\n",
       "    </tr>\n",
       "    <tr>\n",
       "      <th>424</th>\n",
       "      <td>bHW58d37s1hBjj3wPBkn5zpCX3F8ZW3uWf</td>\n",
       "      <td>4.000000e+16</td>\n",
       "      <td>0.000000e+00</td>\n",
       "      <td>4.000000e+16</td>\n",
       "      <td>[{u'type': u'vin', u'addresses': u'9a72043e11b...</td>\n",
       "      <td>LBRY Team Escrow (premine)</td>\n",
       "    </tr>\n",
       "    <tr>\n",
       "      <th>4057</th>\n",
       "      <td>bLPbiXBp6Vr3NSnsHzDsLNzoy5o36re9Cz</td>\n",
       "      <td>1.000090e+13</td>\n",
       "      <td>1.000090e+13</td>\n",
       "      <td>0.000000e+00</td>\n",
       "      <td>[{u'type': u'vout', u'addresses': u'e2f9cb21d4...</td>\n",
       "      <td>Investor</td>\n",
       "    </tr>\n",
       "    <tr>\n",
       "      <th>4163</th>\n",
       "      <td>bFgohv4wprdCEtW2m5EVQyVNtxp4NxQMXi</td>\n",
       "      <td>0.000000e+00</td>\n",
       "      <td>7.352650e+13</td>\n",
       "      <td>7.352650e+13</td>\n",
       "      <td>[{u'type': u'vout', u'addresses': u'7c77646740...</td>\n",
       "      <td>LBRY Hot Wallet</td>\n",
       "    </tr>\n",
       "    <tr>\n",
       "      <th>4833</th>\n",
       "      <td>bVUrbCK8hcZ5XWti7b9eNxKEBxzc1rr393</td>\n",
       "      <td>2.403880e+13</td>\n",
       "      <td>4.897770e+13</td>\n",
       "      <td>2.493890e+13</td>\n",
       "      <td>[{u'type': u'vout', u'addresses': u'ed8fc03abd...</td>\n",
       "      <td>LBRY Hot Wallet</td>\n",
       "    </tr>\n",
       "    <tr>\n",
       "      <th>128905</th>\n",
       "      <td>bDzuP6Sawe7tadVKR7dmPW1JFYK9ELnjra</td>\n",
       "      <td>1.450000e+14</td>\n",
       "      <td>2.984199e+14</td>\n",
       "      <td>1.534199e+14</td>\n",
       "      <td>[{u'type': u'vout', u'addresses': u'554d8fed52...</td>\n",
       "      <td>LBRY Hot Wallet</td>\n",
       "    </tr>\n",
       "    <tr>\n",
       "      <th>129116</th>\n",
       "      <td>bWbFyN8CJAghwavfRDuEfmv71swkapBcuy</td>\n",
       "      <td>0.000000e+00</td>\n",
       "      <td>8.419899e+12</td>\n",
       "      <td>8.419899e+12</td>\n",
       "      <td>[{u'type': u'vout', u'addresses': u'b72ffc5bb9...</td>\n",
       "      <td>LBRY Hot Wallet</td>\n",
       "    </tr>\n",
       "    <tr>\n",
       "      <th>236796</th>\n",
       "      <td>rVRMmGLZenVXpT1NwYMGcnwFc642kEgWTV</td>\n",
       "      <td>1.000000e+16</td>\n",
       "      <td>1.000000e+16</td>\n",
       "      <td>1.000000e+06</td>\n",
       "      <td>[{u'type': u'vout', u'addresses': u'73df395c9f...</td>\n",
       "      <td>Strategic Partners</td>\n",
       "    </tr>\n",
       "    <tr>\n",
       "      <th>236798</th>\n",
       "      <td>rTZF9RvfkLJ6hwCwERwFd7dppRMeddKjpe</td>\n",
       "      <td>9.990000e+15</td>\n",
       "      <td>9.990000e+15</td>\n",
       "      <td>1.000000e+06</td>\n",
       "      <td>[{u'type': u'vout', u'addresses': u'5dd2ab145d...</td>\n",
       "      <td>LBRY Team</td>\n",
       "    </tr>\n",
       "    <tr>\n",
       "      <th>236800</th>\n",
       "      <td>rRmURzvpHTysU4xUSp9CXeosBTbYfKs7n5</td>\n",
       "      <td>1.980000e+16</td>\n",
       "      <td>1.980000e+16</td>\n",
       "      <td>1.000000e+06</td>\n",
       "      <td>[{u'type': u'vout', u'addresses': u'b39f8d5b57...</td>\n",
       "      <td>Adoption Programs</td>\n",
       "    </tr>\n",
       "  </tbody>\n",
       "</table>\n",
       "</div>"
      ],
      "text/plain": [
       "                                      a_id       balance      received  \\\n",
       "404     rEQKyb7nd7UUGyEEn5xRkk1fgXdTCf2ZCg  0.000000e+00  1.999000e+16   \n",
       "406     rMT5Sg8SyFP3ax2PRaweRCRZoMeYw4znEi  0.000000e+00  3.980000e+16   \n",
       "410     r9DarmxyPjWkF7ocyxMzaNZN3a9gJvNTZJ  0.000000e+00  1.000000e+16   \n",
       "424     bHW58d37s1hBjj3wPBkn5zpCX3F8ZW3uWf  4.000000e+16  0.000000e+00   \n",
       "4057    bLPbiXBp6Vr3NSnsHzDsLNzoy5o36re9Cz  1.000090e+13  1.000090e+13   \n",
       "4163    bFgohv4wprdCEtW2m5EVQyVNtxp4NxQMXi  0.000000e+00  7.352650e+13   \n",
       "4833    bVUrbCK8hcZ5XWti7b9eNxKEBxzc1rr393  2.403880e+13  4.897770e+13   \n",
       "128905  bDzuP6Sawe7tadVKR7dmPW1JFYK9ELnjra  1.450000e+14  2.984199e+14   \n",
       "129116  bWbFyN8CJAghwavfRDuEfmv71swkapBcuy  0.000000e+00  8.419899e+12   \n",
       "236796  rVRMmGLZenVXpT1NwYMGcnwFc642kEgWTV  1.000000e+16  1.000000e+16   \n",
       "236798  rTZF9RvfkLJ6hwCwERwFd7dppRMeddKjpe  9.990000e+15  9.990000e+15   \n",
       "236800  rRmURzvpHTysU4xUSp9CXeosBTbYfKs7n5  1.980000e+16  1.980000e+16   \n",
       "\n",
       "                sent                                                txs  \\\n",
       "404     1.999000e+16  [{u'type': u'vout', u'addresses': u'32f0ab6b2a...   \n",
       "406     3.980000e+16  [{u'type': u'vout', u'addresses': u'781c100a80...   \n",
       "410     1.000000e+16  [{u'type': u'vout', u'addresses': u'9600945091...   \n",
       "424     4.000000e+16  [{u'type': u'vin', u'addresses': u'9a72043e11b...   \n",
       "4057    0.000000e+00  [{u'type': u'vout', u'addresses': u'e2f9cb21d4...   \n",
       "4163    7.352650e+13  [{u'type': u'vout', u'addresses': u'7c77646740...   \n",
       "4833    2.493890e+13  [{u'type': u'vout', u'addresses': u'ed8fc03abd...   \n",
       "128905  1.534199e+14  [{u'type': u'vout', u'addresses': u'554d8fed52...   \n",
       "129116  8.419899e+12  [{u'type': u'vout', u'addresses': u'b72ffc5bb9...   \n",
       "236796  1.000000e+06  [{u'type': u'vout', u'addresses': u'73df395c9f...   \n",
       "236798  1.000000e+06  [{u'type': u'vout', u'addresses': u'5dd2ab145d...   \n",
       "236800  1.000000e+06  [{u'type': u'vout', u'addresses': u'b39f8d5b57...   \n",
       "\n",
       "                             label  \n",
       "404                      LBRY Team  \n",
       "406              Adoption Programs  \n",
       "410             Strategic Partners  \n",
       "424     LBRY Team Escrow (premine)  \n",
       "4057                      Investor  \n",
       "4163               LBRY Hot Wallet  \n",
       "4833               LBRY Hot Wallet  \n",
       "128905             LBRY Hot Wallet  \n",
       "129116             LBRY Hot Wallet  \n",
       "236796          Strategic Partners  \n",
       "236798                   LBRY Team  \n",
       "236800           Adoption Programs  "
      ]
     },
     "execution_count": 48,
     "metadata": {},
     "output_type": "execute_result"
    }
   ],
   "source": [
    "address_df[address_df.label != \"unknown\"]"
   ]
  },
  {
   "cell_type": "code",
   "execution_count": 49,
   "metadata": {
    "collapsed": true
   },
   "outputs": [],
   "source": [
    "tx_df = read_mongo(db, \"txes\", host='localhost', port=27017, username=\"zargham\", password=password)"
   ]
  },
  {
   "cell_type": "code",
   "execution_count": 54,
   "metadata": {
    "collapsed": false
   },
   "outputs": [],
   "source": [
    "import pytz\n",
    "tz = pytz.timezone('America/Montreal')\n",
    "tx_df[\"datetime\"] = tx_df.timestamp.map(lambda t: datetime.datetime.fromtimestamp(int(t), tz))"
   ]
  },
  {
   "cell_type": "code",
   "execution_count": 56,
   "metadata": {
    "collapsed": true
   },
   "outputs": [],
   "source": [
    "#jacks reward function\n",
    "COIN = 10**8\n",
    "block_time = 150\n",
    "blocks_per_ramp = 100\n",
    "start_ramp_height = 5001\n",
    "limit = 1083221000 * COIN\n",
    "subsidy_interval = 1 << 5\n",
    "max_reductions = 500\n",
    "peak_reward = 500 * COIN\n",
    "premine = 400000000 * COIN\n",
    "\n",
    "\n",
    "def reward(n):\n",
    "    assert n >= 0\n",
    "    if n < 5001:\n",
    "        return COIN\n",
    "    elif n < 55001:\n",
    "        r = 1 + ((n - ((n - start_ramp_height) % blocks_per_ramp) - start_ramp_height) / blocks_per_ramp)\n",
    "        return r * COIN\n",
    "    else:\n",
    "        level = int((n - 55001) / subsidy_interval)\n",
    "        reduction = int((-1 + int((8 * level) + 1) ** 0.5) / 2)\n",
    "        while level >= ((reduction * reduction + reduction) >> 1):\n",
    "            if ((reduction * reduction + reduction) >> 1) > level:\n",
    "                reduction -= 1\n",
    "            else:\n",
    "                reduction += 1\n",
    "        if reduction * COIN >= peak_reward:\n",
    "            return 0\n",
    "        return peak_reward - (reduction * COIN)"
   ]
  },
  {
   "cell_type": "code",
   "execution_count": 64,
   "metadata": {
    "collapsed": true
   },
   "outputs": [],
   "source": [
    "tx_df[\"reward\"] = tx_df.blockindex.map(reward)/COIN #coin converts Deweys to LBC"
   ]
  },
  {
   "cell_type": "code",
   "execution_count": 65,
   "metadata": {
    "collapsed": false
   },
   "outputs": [
    {
     "data": {
      "text/html": [
       "<div>\n",
       "<table border=\"1\" class=\"dataframe\">\n",
       "  <thead>\n",
       "    <tr style=\"text-align: right;\">\n",
       "      <th></th>\n",
       "      <th>blockhash</th>\n",
       "      <th>blockindex</th>\n",
       "      <th>timestamp</th>\n",
       "      <th>total</th>\n",
       "      <th>txid</th>\n",
       "      <th>vin</th>\n",
       "      <th>vout</th>\n",
       "      <th>datetime</th>\n",
       "      <th>reward</th>\n",
       "    </tr>\n",
       "  </thead>\n",
       "  <tbody>\n",
       "    <tr>\n",
       "      <th>387843</th>\n",
       "      <td>1860ca61ee065062df0a4c2d0775b45a5a435491dcb0ac...</td>\n",
       "      <td>40463</td>\n",
       "      <td>1473119388</td>\n",
       "      <td>33602537760</td>\n",
       "      <td>f9dd563281435859bf28f42dd15d777cdf24215e6b16a9...</td>\n",
       "      <td>[{u'amount': 33602549106.0, u'addresses': u'bJ...</td>\n",
       "      <td>[{u'amount': 33486072917.0, u'addresses': u'bH...</td>\n",
       "      <td>2016-09-05 19:49:48-04:00</td>\n",
       "      <td>355</td>\n",
       "    </tr>\n",
       "    <tr>\n",
       "      <th>387844</th>\n",
       "      <td>1860ca61ee065062df0a4c2d0775b45a5a435491dcb0ac...</td>\n",
       "      <td>40463</td>\n",
       "      <td>1473119388</td>\n",
       "      <td>3810676987</td>\n",
       "      <td>14745eaadf4e3d345367408ea56849e348691679e9e666...</td>\n",
       "      <td>[{u'amount': 3810688333.0, u'addresses': u'bPJ...</td>\n",
       "      <td>[{u'amount': 1223536962, u'addresses': u'bZ3Qx...</td>\n",
       "      <td>2016-09-05 19:49:48-04:00</td>\n",
       "      <td>355</td>\n",
       "    </tr>\n",
       "    <tr>\n",
       "      <th>387845</th>\n",
       "      <td>1860ca61ee065062df0a4c2d0775b45a5a435491dcb0ac...</td>\n",
       "      <td>40463</td>\n",
       "      <td>1473119388</td>\n",
       "      <td>11228406126</td>\n",
       "      <td>e448f6c6de7ae529d9cd86ff2d6148ff377461f9ef73ca...</td>\n",
       "      <td>[{u'amount': 11228417472.0, u'addresses': u'bF...</td>\n",
       "      <td>[{u'amount': 119786283, u'addresses': u'bVgiHH...</td>\n",
       "      <td>2016-09-05 19:49:48-04:00</td>\n",
       "      <td>355</td>\n",
       "    </tr>\n",
       "    <tr>\n",
       "      <th>387846</th>\n",
       "      <td>1860ca61ee065062df0a4c2d0775b45a5a435491dcb0ac...</td>\n",
       "      <td>40463</td>\n",
       "      <td>1473119388</td>\n",
       "      <td>9043744690</td>\n",
       "      <td>28ef72ec06b2bc14b7ae0e3ee3035cbbbadf36217e84e7...</td>\n",
       "      <td>[{u'amount': 9043756036.0, u'addresses': u'bRu...</td>\n",
       "      <td>[{u'amount': 169500795, u'addresses': u'bGFtt2...</td>\n",
       "      <td>2016-09-05 19:49:48-04:00</td>\n",
       "      <td>355</td>\n",
       "    </tr>\n",
       "    <tr>\n",
       "      <th>387847</th>\n",
       "      <td>1860ca61ee065062df0a4c2d0775b45a5a435491dcb0ac...</td>\n",
       "      <td>40463</td>\n",
       "      <td>1473119388</td>\n",
       "      <td>15281455904</td>\n",
       "      <td>0af9162cffe1ec8bfad1b9984bd3582959b1ea0f1d7774...</td>\n",
       "      <td>[{u'amount': 15281467250.0, u'addresses': u'bR...</td>\n",
       "      <td>[{u'amount': 14781077106.0, u'addresses': u'bY...</td>\n",
       "      <td>2016-09-05 19:49:48-04:00</td>\n",
       "      <td>355</td>\n",
       "    </tr>\n",
       "  </tbody>\n",
       "</table>\n",
       "</div>"
      ],
      "text/plain": [
       "                                                blockhash  blockindex  \\\n",
       "387843  1860ca61ee065062df0a4c2d0775b45a5a435491dcb0ac...       40463   \n",
       "387844  1860ca61ee065062df0a4c2d0775b45a5a435491dcb0ac...       40463   \n",
       "387845  1860ca61ee065062df0a4c2d0775b45a5a435491dcb0ac...       40463   \n",
       "387846  1860ca61ee065062df0a4c2d0775b45a5a435491dcb0ac...       40463   \n",
       "387847  1860ca61ee065062df0a4c2d0775b45a5a435491dcb0ac...       40463   \n",
       "\n",
       "         timestamp        total  \\\n",
       "387843  1473119388  33602537760   \n",
       "387844  1473119388   3810676987   \n",
       "387845  1473119388  11228406126   \n",
       "387846  1473119388   9043744690   \n",
       "387847  1473119388  15281455904   \n",
       "\n",
       "                                                     txid  \\\n",
       "387843  f9dd563281435859bf28f42dd15d777cdf24215e6b16a9...   \n",
       "387844  14745eaadf4e3d345367408ea56849e348691679e9e666...   \n",
       "387845  e448f6c6de7ae529d9cd86ff2d6148ff377461f9ef73ca...   \n",
       "387846  28ef72ec06b2bc14b7ae0e3ee3035cbbbadf36217e84e7...   \n",
       "387847  0af9162cffe1ec8bfad1b9984bd3582959b1ea0f1d7774...   \n",
       "\n",
       "                                                      vin  \\\n",
       "387843  [{u'amount': 33602549106.0, u'addresses': u'bJ...   \n",
       "387844  [{u'amount': 3810688333.0, u'addresses': u'bPJ...   \n",
       "387845  [{u'amount': 11228417472.0, u'addresses': u'bF...   \n",
       "387846  [{u'amount': 9043756036.0, u'addresses': u'bRu...   \n",
       "387847  [{u'amount': 15281467250.0, u'addresses': u'bR...   \n",
       "\n",
       "                                                     vout  \\\n",
       "387843  [{u'amount': 33486072917.0, u'addresses': u'bH...   \n",
       "387844  [{u'amount': 1223536962, u'addresses': u'bZ3Qx...   \n",
       "387845  [{u'amount': 119786283, u'addresses': u'bVgiHH...   \n",
       "387846  [{u'amount': 169500795, u'addresses': u'bGFtt2...   \n",
       "387847  [{u'amount': 14781077106.0, u'addresses': u'bY...   \n",
       "\n",
       "                         datetime  reward  \n",
       "387843  2016-09-05 19:49:48-04:00     355  \n",
       "387844  2016-09-05 19:49:48-04:00     355  \n",
       "387845  2016-09-05 19:49:48-04:00     355  \n",
       "387846  2016-09-05 19:49:48-04:00     355  \n",
       "387847  2016-09-05 19:49:48-04:00     355  "
      ]
     },
     "execution_count": 65,
     "metadata": {},
     "output_type": "execute_result"
    }
   ],
   "source": [
    "tx_df.tail()"
   ]
  },
  {
   "cell_type": "code",
   "execution_count": null,
   "metadata": {
    "collapsed": false
   },
   "outputs": [],
   "source": [
    "tx_df.plot(x=\"datetime\", y= \"reward\")\n",
    "plt.ylabel(\"LBC\")"
   ]
  },
  {
   "cell_type": "code",
   "execution_count": null,
   "metadata": {
    "collapsed": true
   },
   "outputs": [],
   "source": []
  }
 ],
 "metadata": {
  "kernelspec": {
   "display_name": "Python 2",
   "language": "python",
   "name": "python2"
  },
  "language_info": {
   "codemirror_mode": {
    "name": "ipython",
    "version": 2
   },
   "file_extension": ".py",
   "mimetype": "text/x-python",
   "name": "python",
   "nbconvert_exporter": "python",
   "pygments_lexer": "ipython2",
   "version": "2.7.12"
  }
 },
 "nbformat": 4,
 "nbformat_minor": 0
}
