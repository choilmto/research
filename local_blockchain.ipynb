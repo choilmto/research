{
 "cells": [
  {
   "cell_type": "markdown",
   "metadata": {},
   "source": [
    "Due to challenges faced trying to access the blockchain data en masse, i created a local instance of the lbry-explorer and this notebook leverages the mongoDB data source that exists as part of the lbry-explorer."
   ]
  },
  {
   "cell_type": "code",
   "execution_count": 1,
   "metadata": {
    "collapsed": false
   },
   "outputs": [],
   "source": [
    "import pandas as pd\n",
    "from pymongo import MongoClient\n",
    "import matplotlib.pyplot as plt\n",
    "import datetime\n",
    "%matplotlib inline"
   ]
  },
  {
   "cell_type": "code",
   "execution_count": 2,
   "metadata": {
    "collapsed": false
   },
   "outputs": [
    {
     "name": "stdout",
     "output_type": "stream",
     "text": [
      "········\n"
     ]
    }
   ],
   "source": [
    "import getpass\n",
    "password = getpass.getpass()"
   ]
  },
  {
   "cell_type": "code",
   "execution_count": 3,
   "metadata": {
    "collapsed": true
   },
   "outputs": [],
   "source": [
    "def connect_mongo(host, port, username, password, db):\n",
    "    \"\"\" A util for making a connection to mongo \"\"\"\n",
    "\n",
    "    if username and password:\n",
    "        mongo_uri = 'mongodb://%s:%s@%s:%s/%s' % (username, password, host, port, db)\n",
    "        conn = MongoClient(mongo_uri)\n",
    "    else:\n",
    "        conn = MongoClient(host, port)\n",
    "\n",
    "\n",
    "    return conn[db]\n",
    "\n",
    "\n",
    "def read_mongo(db, collection, host='localhost', port=27017, username=None, password=None, no_id=True):\n",
    "    \"\"\" Read from Mongo and Store into DataFrame \"\"\"\n",
    "\n",
    "    # Connect to MongoDB\n",
    "    db = connect_mongo(host=host, port=port, username=username, password=password, db=db)\n",
    "    \n",
    "    # Make a query to the specific DB and Collection\n",
    "    cursor = db[collection].find()\n",
    "    #print list(cursor)\n",
    "\n",
    "    # Expand the cursor and construct the DataFrame\n",
    "    df =  pd.DataFrame(list(cursor))\n",
    "\n",
    "    # Delete the _id\n",
    "    if no_id:\n",
    "        del df['_id']\n",
    "\n",
    "    return df.drop(\"__v\", axis=1)"
   ]
  },
  {
   "cell_type": "markdown",
   "metadata": {},
   "source": [
    "Collections:\n",
    "    addresses,\n",
    "    markets,\n",
    "    richlists,\n",
    "    stats,\n",
    "    txes"
   ]
  },
  {
   "cell_type": "code",
   "execution_count": 4,
   "metadata": {
    "collapsed": true
   },
   "outputs": [],
   "source": [
    "db = \"explorerdb\""
   ]
  },
  {
   "cell_type": "code",
   "execution_count": 5,
   "metadata": {
    "collapsed": false
   },
   "outputs": [],
   "source": [
    "address_df = read_mongo(db, \"addresses\", host='localhost', port=27017, username=\"zargham\", password=password)"
   ]
  },
  {
   "cell_type": "code",
   "execution_count": 6,
   "metadata": {
    "collapsed": false
   },
   "outputs": [
    {
     "data": {
      "text/html": [
       "<div>\n",
       "<table border=\"1\" class=\"dataframe\">\n",
       "  <thead>\n",
       "    <tr style=\"text-align: right;\">\n",
       "      <th></th>\n",
       "      <th>a_id</th>\n",
       "      <th>balance</th>\n",
       "      <th>received</th>\n",
       "      <th>sent</th>\n",
       "      <th>txs</th>\n",
       "    </tr>\n",
       "  </thead>\n",
       "  <tbody>\n",
       "    <tr>\n",
       "      <th>0</th>\n",
       "      <td>coinbase</td>\n",
       "      <td>0</td>\n",
       "      <td>0</td>\n",
       "      <td>9.244448e+14</td>\n",
       "      <td>[{u'type': u'vin', u'addresses': u'5dda81f4219...</td>\n",
       "    </tr>\n",
       "  </tbody>\n",
       "</table>\n",
       "</div>"
      ],
      "text/plain": [
       "       a_id  balance  received          sent  \\\n",
       "0  coinbase        0         0  9.244448e+14   \n",
       "\n",
       "                                                 txs  \n",
       "0  [{u'type': u'vin', u'addresses': u'5dda81f4219...  "
      ]
     },
     "execution_count": 6,
     "metadata": {},
     "output_type": "execute_result"
    }
   ],
   "source": [
    "address_df[address_df.a_id.map(lambda s: bool((s[0] != \"b\") & (s[0] !=\"r\")))].head()"
   ]
  },
  {
   "cell_type": "code",
   "execution_count": 7,
   "metadata": {
    "collapsed": true
   },
   "outputs": [],
   "source": [
    "labels = {\"rEQKyb7nd7UUGyEEn5xRkk1fgXdTCf2ZCg\": {\"label\":\"LBRY Team\", \"type\":\"info\", \"url\":\"https://lbry.io/what#credits\"},\n",
    "      \"bWbFyN8CJAghwavfRDuEfmv71swkapBcuy\": {\"label\":\"LBRY Hot Wallet\", \"type\":\"info\", \"url\":\"\"},\n",
    "      \"rVRMmGLZenVXpT1NwYMGcnwFc642kEgWTV\": {\"label\":\"Strategic Partners\", \"type\":\"info\", \"url\":\"https://lbry.io/what#credits\"},\n",
    "      \"bLPbiXBp6Vr3NSnsHzDsLNzoy5o36re9Cz\": {\"label\":\"Investor\", \"type\":\"info\", \"url\":\"https://lbry.io/news/mysterious-100k-lbc-revealed\"},\n",
    "      \"rTZF9RvfkLJ6hwCwERwFd7dppRMeddKjpe\": {\"label\":\"LBRY Team\", \"type\":\"info\", \"url\":\"https://lbry.io/what#credits\"},\n",
    "      \"bVUrbCK8hcZ5XWti7b9eNxKEBxzc1rr393\": {\"label\":\"LBRY Hot Wallet\", \"type\":\"info\", \"url\":\"\"},\n",
    "      \"bHW58d37s1hBjj3wPBkn5zpCX3F8ZW3uWf\": {\"label\":\"LBRY Team Escrow (premine)\", \"type\":\"info\", \"url\":\"https://lbry.io/what#credits\"},\n",
    "      \"r9DarmxyPjWkF7ocyxMzaNZN3a9gJvNTZJ\": {\"label\":\"Strategic Partners\", \"type\":\"info\", \"url\":\"https://lbry.io/what#credits\"},\n",
    "      \"rMT5Sg8SyFP3ax2PRaweRCRZoMeYw4znEi\": {\"label\":\"Adoption Programs\", \"type\":\"info\", \"url\":\"https://lbry.io/what#credits\"},\n",
    "      \"bDzuP6Sawe7tadVKR7dmPW1JFYK9ELnjra\": {\"label\":\"LBRY Hot Wallet\", \"type\":\"info\", \"url\":\"\"},\n",
    "      \"bFgohv4wprdCEtW2m5EVQyVNtxp4NxQMXi\": {\"label\":\"LBRY Hot Wallet\", \"type\":\"info\", \"url\":\"\"},\n",
    "      \"rRmURzvpHTysU4xUSp9CXeosBTbYfKs7n5\": {\"label\":\"Adoption Programs\", \"type\":\"info\", \"url\":\"https://lbry.io/what#credits\"}\n",
    "    }"
   ]
  },
  {
   "cell_type": "code",
   "execution_count": 8,
   "metadata": {
    "collapsed": true
   },
   "outputs": [],
   "source": [
    "def get_label(address):\n",
    "    if address in labels.keys():\n",
    "        return labels[address][\"label\"]\n",
    "    else:\n",
    "        return \"unknown\""
   ]
  },
  {
   "cell_type": "code",
   "execution_count": 9,
   "metadata": {
    "collapsed": false
   },
   "outputs": [],
   "source": [
    "address_df[\"label\"] = address_df.a_id.map(get_label)"
   ]
  },
  {
   "cell_type": "code",
   "execution_count": 10,
   "metadata": {
    "collapsed": false
   },
   "outputs": [
    {
     "data": {
      "text/html": [
       "<div>\n",
       "<table border=\"1\" class=\"dataframe\">\n",
       "  <thead>\n",
       "    <tr style=\"text-align: right;\">\n",
       "      <th></th>\n",
       "      <th>a_id</th>\n",
       "      <th>balance</th>\n",
       "      <th>received</th>\n",
       "      <th>sent</th>\n",
       "      <th>txs</th>\n",
       "      <th>label</th>\n",
       "    </tr>\n",
       "  </thead>\n",
       "  <tbody>\n",
       "    <tr>\n",
       "      <th>404</th>\n",
       "      <td>rEQKyb7nd7UUGyEEn5xRkk1fgXdTCf2ZCg</td>\n",
       "      <td>0.000000e+00</td>\n",
       "      <td>1.999000e+16</td>\n",
       "      <td>1.999000e+16</td>\n",
       "      <td>[{u'type': u'vout', u'addresses': u'32f0ab6b2a...</td>\n",
       "      <td>LBRY Team</td>\n",
       "    </tr>\n",
       "    <tr>\n",
       "      <th>406</th>\n",
       "      <td>rMT5Sg8SyFP3ax2PRaweRCRZoMeYw4znEi</td>\n",
       "      <td>0.000000e+00</td>\n",
       "      <td>3.980000e+16</td>\n",
       "      <td>3.980000e+16</td>\n",
       "      <td>[{u'type': u'vout', u'addresses': u'781c100a80...</td>\n",
       "      <td>Adoption Programs</td>\n",
       "    </tr>\n",
       "    <tr>\n",
       "      <th>410</th>\n",
       "      <td>r9DarmxyPjWkF7ocyxMzaNZN3a9gJvNTZJ</td>\n",
       "      <td>0.000000e+00</td>\n",
       "      <td>1.000000e+16</td>\n",
       "      <td>1.000000e+16</td>\n",
       "      <td>[{u'type': u'vout', u'addresses': u'9600945091...</td>\n",
       "      <td>Strategic Partners</td>\n",
       "    </tr>\n",
       "    <tr>\n",
       "      <th>424</th>\n",
       "      <td>bHW58d37s1hBjj3wPBkn5zpCX3F8ZW3uWf</td>\n",
       "      <td>4.000000e+16</td>\n",
       "      <td>0.000000e+00</td>\n",
       "      <td>4.000000e+16</td>\n",
       "      <td>[{u'type': u'vin', u'addresses': u'9a72043e11b...</td>\n",
       "      <td>LBRY Team Escrow (premine)</td>\n",
       "    </tr>\n",
       "    <tr>\n",
       "      <th>4057</th>\n",
       "      <td>bLPbiXBp6Vr3NSnsHzDsLNzoy5o36re9Cz</td>\n",
       "      <td>1.000090e+13</td>\n",
       "      <td>1.000090e+13</td>\n",
       "      <td>0.000000e+00</td>\n",
       "      <td>[{u'type': u'vout', u'addresses': u'e2f9cb21d4...</td>\n",
       "      <td>Investor</td>\n",
       "    </tr>\n",
       "    <tr>\n",
       "      <th>4163</th>\n",
       "      <td>bFgohv4wprdCEtW2m5EVQyVNtxp4NxQMXi</td>\n",
       "      <td>0.000000e+00</td>\n",
       "      <td>7.352650e+13</td>\n",
       "      <td>7.352650e+13</td>\n",
       "      <td>[{u'type': u'vout', u'addresses': u'7c77646740...</td>\n",
       "      <td>LBRY Hot Wallet</td>\n",
       "    </tr>\n",
       "    <tr>\n",
       "      <th>4833</th>\n",
       "      <td>bVUrbCK8hcZ5XWti7b9eNxKEBxzc1rr393</td>\n",
       "      <td>0.000000e+00</td>\n",
       "      <td>4.897770e+13</td>\n",
       "      <td>4.897770e+13</td>\n",
       "      <td>[{u'type': u'vout', u'addresses': u'ed8fc03abd...</td>\n",
       "      <td>LBRY Hot Wallet</td>\n",
       "    </tr>\n",
       "    <tr>\n",
       "      <th>128905</th>\n",
       "      <td>bDzuP6Sawe7tadVKR7dmPW1JFYK9ELnjra</td>\n",
       "      <td>1.450000e+14</td>\n",
       "      <td>2.984199e+14</td>\n",
       "      <td>1.534199e+14</td>\n",
       "      <td>[{u'type': u'vout', u'addresses': u'554d8fed52...</td>\n",
       "      <td>LBRY Hot Wallet</td>\n",
       "    </tr>\n",
       "    <tr>\n",
       "      <th>129116</th>\n",
       "      <td>bWbFyN8CJAghwavfRDuEfmv71swkapBcuy</td>\n",
       "      <td>0.000000e+00</td>\n",
       "      <td>8.419899e+12</td>\n",
       "      <td>8.419899e+12</td>\n",
       "      <td>[{u'type': u'vout', u'addresses': u'b72ffc5bb9...</td>\n",
       "      <td>LBRY Hot Wallet</td>\n",
       "    </tr>\n",
       "    <tr>\n",
       "      <th>236796</th>\n",
       "      <td>rVRMmGLZenVXpT1NwYMGcnwFc642kEgWTV</td>\n",
       "      <td>1.000000e+16</td>\n",
       "      <td>1.000000e+16</td>\n",
       "      <td>1.000000e+06</td>\n",
       "      <td>[{u'type': u'vout', u'addresses': u'73df395c9f...</td>\n",
       "      <td>Strategic Partners</td>\n",
       "    </tr>\n",
       "    <tr>\n",
       "      <th>236798</th>\n",
       "      <td>rTZF9RvfkLJ6hwCwERwFd7dppRMeddKjpe</td>\n",
       "      <td>9.990000e+15</td>\n",
       "      <td>9.990000e+15</td>\n",
       "      <td>1.000000e+06</td>\n",
       "      <td>[{u'type': u'vout', u'addresses': u'5dd2ab145d...</td>\n",
       "      <td>LBRY Team</td>\n",
       "    </tr>\n",
       "    <tr>\n",
       "      <th>236800</th>\n",
       "      <td>rRmURzvpHTysU4xUSp9CXeosBTbYfKs7n5</td>\n",
       "      <td>1.980000e+16</td>\n",
       "      <td>1.980000e+16</td>\n",
       "      <td>1.000000e+06</td>\n",
       "      <td>[{u'type': u'vout', u'addresses': u'b39f8d5b57...</td>\n",
       "      <td>Adoption Programs</td>\n",
       "    </tr>\n",
       "  </tbody>\n",
       "</table>\n",
       "</div>"
      ],
      "text/plain": [
       "                                      a_id       balance      received  \\\n",
       "404     rEQKyb7nd7UUGyEEn5xRkk1fgXdTCf2ZCg  0.000000e+00  1.999000e+16   \n",
       "406     rMT5Sg8SyFP3ax2PRaweRCRZoMeYw4znEi  0.000000e+00  3.980000e+16   \n",
       "410     r9DarmxyPjWkF7ocyxMzaNZN3a9gJvNTZJ  0.000000e+00  1.000000e+16   \n",
       "424     bHW58d37s1hBjj3wPBkn5zpCX3F8ZW3uWf  4.000000e+16  0.000000e+00   \n",
       "4057    bLPbiXBp6Vr3NSnsHzDsLNzoy5o36re9Cz  1.000090e+13  1.000090e+13   \n",
       "4163    bFgohv4wprdCEtW2m5EVQyVNtxp4NxQMXi  0.000000e+00  7.352650e+13   \n",
       "4833    bVUrbCK8hcZ5XWti7b9eNxKEBxzc1rr393  0.000000e+00  4.897770e+13   \n",
       "128905  bDzuP6Sawe7tadVKR7dmPW1JFYK9ELnjra  1.450000e+14  2.984199e+14   \n",
       "129116  bWbFyN8CJAghwavfRDuEfmv71swkapBcuy  0.000000e+00  8.419899e+12   \n",
       "236796  rVRMmGLZenVXpT1NwYMGcnwFc642kEgWTV  1.000000e+16  1.000000e+16   \n",
       "236798  rTZF9RvfkLJ6hwCwERwFd7dppRMeddKjpe  9.990000e+15  9.990000e+15   \n",
       "236800  rRmURzvpHTysU4xUSp9CXeosBTbYfKs7n5  1.980000e+16  1.980000e+16   \n",
       "\n",
       "                sent                                                txs  \\\n",
       "404     1.999000e+16  [{u'type': u'vout', u'addresses': u'32f0ab6b2a...   \n",
       "406     3.980000e+16  [{u'type': u'vout', u'addresses': u'781c100a80...   \n",
       "410     1.000000e+16  [{u'type': u'vout', u'addresses': u'9600945091...   \n",
       "424     4.000000e+16  [{u'type': u'vin', u'addresses': u'9a72043e11b...   \n",
       "4057    0.000000e+00  [{u'type': u'vout', u'addresses': u'e2f9cb21d4...   \n",
       "4163    7.352650e+13  [{u'type': u'vout', u'addresses': u'7c77646740...   \n",
       "4833    4.897770e+13  [{u'type': u'vout', u'addresses': u'ed8fc03abd...   \n",
       "128905  1.534199e+14  [{u'type': u'vout', u'addresses': u'554d8fed52...   \n",
       "129116  8.419899e+12  [{u'type': u'vout', u'addresses': u'b72ffc5bb9...   \n",
       "236796  1.000000e+06  [{u'type': u'vout', u'addresses': u'73df395c9f...   \n",
       "236798  1.000000e+06  [{u'type': u'vout', u'addresses': u'5dd2ab145d...   \n",
       "236800  1.000000e+06  [{u'type': u'vout', u'addresses': u'b39f8d5b57...   \n",
       "\n",
       "                             label  \n",
       "404                      LBRY Team  \n",
       "406              Adoption Programs  \n",
       "410             Strategic Partners  \n",
       "424     LBRY Team Escrow (premine)  \n",
       "4057                      Investor  \n",
       "4163               LBRY Hot Wallet  \n",
       "4833               LBRY Hot Wallet  \n",
       "128905             LBRY Hot Wallet  \n",
       "129116             LBRY Hot Wallet  \n",
       "236796          Strategic Partners  \n",
       "236798                   LBRY Team  \n",
       "236800           Adoption Programs  "
      ]
     },
     "execution_count": 10,
     "metadata": {},
     "output_type": "execute_result"
    }
   ],
   "source": [
    "address_df[address_df.label != \"unknown\"]"
   ]
  },
  {
   "cell_type": "code",
   "execution_count": 11,
   "metadata": {
    "collapsed": true
   },
   "outputs": [],
   "source": [
    "tx_df = read_mongo(db, \"txes\", host='localhost', port=27017, username=\"zargham\", password=password)"
   ]
  },
  {
   "cell_type": "code",
   "execution_count": 12,
   "metadata": {
    "collapsed": false
   },
   "outputs": [],
   "source": [
    "import pytz\n",
    "tz = pytz.timezone('America/Montreal')\n",
    "tx_df[\"datetime\"] = tx_df.timestamp.map(lambda t: datetime.datetime.fromtimestamp(int(t), tz))"
   ]
  },
  {
   "cell_type": "code",
   "execution_count": 13,
   "metadata": {
    "collapsed": true
   },
   "outputs": [],
   "source": [
    "#jacks reward function\n",
    "COIN = 10**8\n",
    "block_time = 150\n",
    "blocks_per_ramp = 100\n",
    "start_ramp_height = 5001\n",
    "limit = 1083221000 * COIN\n",
    "subsidy_interval = 1 << 5\n",
    "max_reductions = 500\n",
    "peak_reward = 500 * COIN\n",
    "premine = 400000000 * COIN\n",
    "\n",
    "\n",
    "def reward(n):\n",
    "    assert n >= 0\n",
    "    if n < 5001:\n",
    "        return COIN\n",
    "    elif n < 55001:\n",
    "        r = 1 + ((n - ((n - start_ramp_height) % blocks_per_ramp) - start_ramp_height) / blocks_per_ramp)\n",
    "        return r * COIN\n",
    "    else:\n",
    "        level = int((n - 55001) / subsidy_interval)\n",
    "        reduction = int((-1 + int((8 * level) + 1) ** 0.5) / 2)\n",
    "        while level >= ((reduction * reduction + reduction) >> 1):\n",
    "            if ((reduction * reduction + reduction) >> 1) > level:\n",
    "                reduction -= 1\n",
    "            else:\n",
    "                reduction += 1\n",
    "        if reduction * COIN >= peak_reward:\n",
    "            return 0\n",
    "        return peak_reward - (reduction * COIN)"
   ]
  },
  {
   "cell_type": "code",
   "execution_count": 14,
   "metadata": {
    "collapsed": true
   },
   "outputs": [],
   "source": [
    "tx_df[\"reward\"] = tx_df.blockindex.map(reward)/COIN #coin converts Deweys to LBC"
   ]
  },
  {
   "cell_type": "code",
   "execution_count": 34,
   "metadata": {
    "collapsed": false
   },
   "outputs": [
    {
     "data": {
      "text/html": [
       "<div>\n",
       "<table border=\"1\" class=\"dataframe\">\n",
       "  <thead>\n",
       "    <tr style=\"text-align: right;\">\n",
       "      <th></th>\n",
       "      <th>blockhash</th>\n",
       "      <th>blockindex</th>\n",
       "      <th>timestamp</th>\n",
       "      <th>total</th>\n",
       "      <th>txid</th>\n",
       "      <th>vin</th>\n",
       "      <th>vout</th>\n",
       "      <th>datetime</th>\n",
       "      <th>reward</th>\n",
       "      <th>out_address</th>\n",
       "      <th>in_address</th>\n",
       "      <th>out_amount</th>\n",
       "      <th>in_amount</th>\n",
       "      <th>lbry_out</th>\n",
       "      <th>lbry_in</th>\n",
       "    </tr>\n",
       "  </thead>\n",
       "  <tbody>\n",
       "    <tr>\n",
       "      <th>515640</th>\n",
       "      <td>8850fafc3f56faed531ae6ec16e1535336f372f7ef3907...</td>\n",
       "      <td>47937</td>\n",
       "      <td>1474330243</td>\n",
       "      <td>21408225119</td>\n",
       "      <td>f64e36af4821bfeec586fb8fff94cf4fb77ef2f3d6b55d...</td>\n",
       "      <td>[{u'amount': 21408229639.0, u'addresses': u'bE...</td>\n",
       "      <td>[{u'amount': 20741450344.0, u'addresses': u'ba...</td>\n",
       "      <td>2016-09-19 20:10:43-04:00</td>\n",
       "      <td>430</td>\n",
       "      <td>bZi1WEjGtsdAwuZTnNNTCAZLxhHkiHec4m</td>\n",
       "      <td>coinbase</td>\n",
       "      <td>100000000</td>\n",
       "      <td>100000000</td>\n",
       "      <td>False</td>\n",
       "      <td>False</td>\n",
       "    </tr>\n",
       "    <tr>\n",
       "      <th>515641</th>\n",
       "      <td>8850fafc3f56faed531ae6ec16e1535336f372f7ef3907...</td>\n",
       "      <td>47937</td>\n",
       "      <td>1474330243</td>\n",
       "      <td>23788033896</td>\n",
       "      <td>778f276d9036c777ca98062332cc0ac82dadbd14ddacd4...</td>\n",
       "      <td>[{u'amount': 23788038396.0, u'addresses': u'bb...</td>\n",
       "      <td>[{u'amount': 1015497931, u'addresses': u'bLMFc...</td>\n",
       "      <td>2016-09-19 20:10:43-04:00</td>\n",
       "      <td>430</td>\n",
       "      <td>bZi1WEjGtsdAwuZTnNNTCAZLxhHkiHec4m</td>\n",
       "      <td>coinbase</td>\n",
       "      <td>100000000</td>\n",
       "      <td>100000000</td>\n",
       "      <td>False</td>\n",
       "      <td>False</td>\n",
       "    </tr>\n",
       "    <tr>\n",
       "      <th>515642</th>\n",
       "      <td>8850fafc3f56faed531ae6ec16e1535336f372f7ef3907...</td>\n",
       "      <td>47937</td>\n",
       "      <td>1474330243</td>\n",
       "      <td>32744956889</td>\n",
       "      <td>0f56c519968d39a32029da4df368362806b6a5d9aadbbf...</td>\n",
       "      <td>[{u'amount': 32744961409.0, u'addresses': u'bN...</td>\n",
       "      <td>[{u'amount': 31276699609.0, u'addresses': u'bD...</td>\n",
       "      <td>2016-09-19 20:10:43-04:00</td>\n",
       "      <td>430</td>\n",
       "      <td>bZi1WEjGtsdAwuZTnNNTCAZLxhHkiHec4m</td>\n",
       "      <td>coinbase</td>\n",
       "      <td>100000000</td>\n",
       "      <td>100000000</td>\n",
       "      <td>False</td>\n",
       "      <td>False</td>\n",
       "    </tr>\n",
       "    <tr>\n",
       "      <th>515643</th>\n",
       "      <td>8850fafc3f56faed531ae6ec16e1535336f372f7ef3907...</td>\n",
       "      <td>47937</td>\n",
       "      <td>1474330243</td>\n",
       "      <td>1671721785</td>\n",
       "      <td>b6a773e633a3cd48e7330038f00138e3ebcfeab6c42e20...</td>\n",
       "      <td>[{u'amount': 1671726305, u'addresses': u'baLUG...</td>\n",
       "      <td>[{u'amount': 583909152, u'addresses': u'bKEm8j...</td>\n",
       "      <td>2016-09-19 20:10:43-04:00</td>\n",
       "      <td>430</td>\n",
       "      <td>bZi1WEjGtsdAwuZTnNNTCAZLxhHkiHec4m</td>\n",
       "      <td>coinbase</td>\n",
       "      <td>100000000</td>\n",
       "      <td>100000000</td>\n",
       "      <td>False</td>\n",
       "      <td>False</td>\n",
       "    </tr>\n",
       "    <tr>\n",
       "      <th>515644</th>\n",
       "      <td>8850fafc3f56faed531ae6ec16e1535336f372f7ef3907...</td>\n",
       "      <td>47937</td>\n",
       "      <td>1474330243</td>\n",
       "      <td>22740403702</td>\n",
       "      <td>8488089cd1e4e88b975f4314f2fdf5b5dbaacd5543ebc5...</td>\n",
       "      <td>[{u'amount': 22740408222.0, u'addresses': u'bN...</td>\n",
       "      <td>[{u'amount': 102381852, u'addresses': u'bPXXjt...</td>\n",
       "      <td>2016-09-19 20:10:43-04:00</td>\n",
       "      <td>430</td>\n",
       "      <td>bZi1WEjGtsdAwuZTnNNTCAZLxhHkiHec4m</td>\n",
       "      <td>coinbase</td>\n",
       "      <td>100000000</td>\n",
       "      <td>100000000</td>\n",
       "      <td>False</td>\n",
       "      <td>False</td>\n",
       "    </tr>\n",
       "  </tbody>\n",
       "</table>\n",
       "</div>"
      ],
      "text/plain": [
       "                                                blockhash  blockindex  \\\n",
       "515640  8850fafc3f56faed531ae6ec16e1535336f372f7ef3907...       47937   \n",
       "515641  8850fafc3f56faed531ae6ec16e1535336f372f7ef3907...       47937   \n",
       "515642  8850fafc3f56faed531ae6ec16e1535336f372f7ef3907...       47937   \n",
       "515643  8850fafc3f56faed531ae6ec16e1535336f372f7ef3907...       47937   \n",
       "515644  8850fafc3f56faed531ae6ec16e1535336f372f7ef3907...       47937   \n",
       "\n",
       "         timestamp        total  \\\n",
       "515640  1474330243  21408225119   \n",
       "515641  1474330243  23788033896   \n",
       "515642  1474330243  32744956889   \n",
       "515643  1474330243   1671721785   \n",
       "515644  1474330243  22740403702   \n",
       "\n",
       "                                                     txid  \\\n",
       "515640  f64e36af4821bfeec586fb8fff94cf4fb77ef2f3d6b55d...   \n",
       "515641  778f276d9036c777ca98062332cc0ac82dadbd14ddacd4...   \n",
       "515642  0f56c519968d39a32029da4df368362806b6a5d9aadbbf...   \n",
       "515643  b6a773e633a3cd48e7330038f00138e3ebcfeab6c42e20...   \n",
       "515644  8488089cd1e4e88b975f4314f2fdf5b5dbaacd5543ebc5...   \n",
       "\n",
       "                                                      vin  \\\n",
       "515640  [{u'amount': 21408229639.0, u'addresses': u'bE...   \n",
       "515641  [{u'amount': 23788038396.0, u'addresses': u'bb...   \n",
       "515642  [{u'amount': 32744961409.0, u'addresses': u'bN...   \n",
       "515643  [{u'amount': 1671726305, u'addresses': u'baLUG...   \n",
       "515644  [{u'amount': 22740408222.0, u'addresses': u'bN...   \n",
       "\n",
       "                                                     vout  \\\n",
       "515640  [{u'amount': 20741450344.0, u'addresses': u'ba...   \n",
       "515641  [{u'amount': 1015497931, u'addresses': u'bLMFc...   \n",
       "515642  [{u'amount': 31276699609.0, u'addresses': u'bD...   \n",
       "515643  [{u'amount': 583909152, u'addresses': u'bKEm8j...   \n",
       "515644  [{u'amount': 102381852, u'addresses': u'bPXXjt...   \n",
       "\n",
       "                         datetime  reward                         out_address  \\\n",
       "515640  2016-09-19 20:10:43-04:00     430  bZi1WEjGtsdAwuZTnNNTCAZLxhHkiHec4m   \n",
       "515641  2016-09-19 20:10:43-04:00     430  bZi1WEjGtsdAwuZTnNNTCAZLxhHkiHec4m   \n",
       "515642  2016-09-19 20:10:43-04:00     430  bZi1WEjGtsdAwuZTnNNTCAZLxhHkiHec4m   \n",
       "515643  2016-09-19 20:10:43-04:00     430  bZi1WEjGtsdAwuZTnNNTCAZLxhHkiHec4m   \n",
       "515644  2016-09-19 20:10:43-04:00     430  bZi1WEjGtsdAwuZTnNNTCAZLxhHkiHec4m   \n",
       "\n",
       "       in_address  out_amount  in_amount lbry_out lbry_in  \n",
       "515640   coinbase   100000000  100000000    False   False  \n",
       "515641   coinbase   100000000  100000000    False   False  \n",
       "515642   coinbase   100000000  100000000    False   False  \n",
       "515643   coinbase   100000000  100000000    False   False  \n",
       "515644   coinbase   100000000  100000000    False   False  "
      ]
     },
     "execution_count": 34,
     "metadata": {},
     "output_type": "execute_result"
    }
   ],
   "source": [
    "tx_df.tail()"
   ]
  },
  {
   "cell_type": "code",
   "execution_count": 49,
   "metadata": {
    "collapsed": false
   },
   "outputs": [
    {
     "data": {
      "text/plain": [
       "0                      [bZi1WEjGtsdAwuZTnNNTCAZLxhHkiHec4m]\n",
       "1                      [bZi1WEjGtsdAwuZTnNNTCAZLxhHkiHec4m]\n",
       "2                      [bZi1WEjGtsdAwuZTnNNTCAZLxhHkiHec4m]\n",
       "3                      [bZi1WEjGtsdAwuZTnNNTCAZLxhHkiHec4m]\n",
       "4                      [bZi1WEjGtsdAwuZTnNNTCAZLxhHkiHec4m]\n",
       "5                      [bZi1WEjGtsdAwuZTnNNTCAZLxhHkiHec4m]\n",
       "6                      [bZi1WEjGtsdAwuZTnNNTCAZLxhHkiHec4m]\n",
       "7                      [bZi1WEjGtsdAwuZTnNNTCAZLxhHkiHec4m]\n",
       "8                      [bZi1WEjGtsdAwuZTnNNTCAZLxhHkiHec4m]\n",
       "9                      [bZi1WEjGtsdAwuZTnNNTCAZLxhHkiHec4m]\n",
       "10                     [bZi1WEjGtsdAwuZTnNNTCAZLxhHkiHec4m]\n",
       "11                     [bZi1WEjGtsdAwuZTnNNTCAZLxhHkiHec4m]\n",
       "12                     [bZi1WEjGtsdAwuZTnNNTCAZLxhHkiHec4m]\n",
       "13                     [bZi1WEjGtsdAwuZTnNNTCAZLxhHkiHec4m]\n",
       "14                     [bZi1WEjGtsdAwuZTnNNTCAZLxhHkiHec4m]\n",
       "15                     [bZi1WEjGtsdAwuZTnNNTCAZLxhHkiHec4m]\n",
       "16                     [bZi1WEjGtsdAwuZTnNNTCAZLxhHkiHec4m]\n",
       "17                     [bZi1WEjGtsdAwuZTnNNTCAZLxhHkiHec4m]\n",
       "18                     [bZi1WEjGtsdAwuZTnNNTCAZLxhHkiHec4m]\n",
       "19                     [bZi1WEjGtsdAwuZTnNNTCAZLxhHkiHec4m]\n",
       "20                     [bHcW58gvFRwNxbLavijDaQRQB6jx1vYT94]\n",
       "21                     [bZi1WEjGtsdAwuZTnNNTCAZLxhHkiHec4m]\n",
       "22                     [bHcW58gvFRwNxbLavijDaQRQB6jx1vYT94]\n",
       "23                     [bZi1WEjGtsdAwuZTnNNTCAZLxhHkiHec4m]\n",
       "24                     [bHcW58gvFRwNxbLavijDaQRQB6jx1vYT94]\n",
       "25                     [bZi1WEjGtsdAwuZTnNNTCAZLxhHkiHec4m]\n",
       "26                     [bXr6EecQmwc6e6PCU1ZehRo9oBGdYRCADT]\n",
       "27                     [bXr6EecQmwc6e6PCU1ZehRo9oBGdYRCADT]\n",
       "28                     [bZi1WEjGtsdAwuZTnNNTCAZLxhHkiHec4m]\n",
       "29                     [bXr6EecQmwc6e6PCU1ZehRo9oBGdYRCADT]\n",
       "                                ...                        \n",
       "515615    [bL49smE8z9XuLZG7BYeWgRhqmk76bZC9jD, bHkF72zjN...\n",
       "515616    [bEmpDzCQgpcFhSXH9kYFKWg3K7eENeuJtm, bK8VNzJxr...\n",
       "515617    [ba6w1gEeVq6p7LFzvCjPTpYZy4QUk9LK8b, bVXWVcLxW...\n",
       "515618    [bEaSdeXGgN9CMbwMa52djjcmngkQ1hSWDL, bMh2i9suT...\n",
       "515619    [bb4GW8D3q3mAw6o9UukiC7zsZB6spxDykC, bCmMd319j...\n",
       "515620    [bHmsdr9sfpDwa7qSmRzr6mtWBeKqu36TyE, ba2U6ezim...\n",
       "515621    [bXzLaSxwqmtovikxR8FYVqTr4WX3NrrR7U, bNwHdfpLD...\n",
       "515622    [bL41oiNar4bqCYnYXBWZ9Xy5d5uSWCo34z, baa9r2TRU...\n",
       "515623    [bb1qSVqwfuTC1B9YePRgnMpyHujzkNkRgJ, bKYWJPCSp...\n",
       "515624    [bT2sYE4u6WhJKviXCAvmJdd5FxPmnxdp4y, bKD7gjxBo...\n",
       "515625    [bKGH875X4oVJ2w5KmpjZEAK2sXGQHbVjgC, bPvkGRdNT...\n",
       "515626    [bK7GX91mJc78RMT7asGF2h9DLBvRuZAQLn, bZbMD4iqf...\n",
       "515627    [bJoJbkpf4uY1hUmUW47H1NED5nLhNv5Vrr, bRXV6Xpgj...\n",
       "515628    [bZHHoJnwz7uEzVmnpfFcomYPfgpkw9oZ69, baLUG3oTM...\n",
       "515629                 [bE8jHdbnDWYpX3CUreSQG8WnnwkBzW2vFv]\n",
       "515630    [bVPeEh54VKB8wMNEKkL6HjCMi2S6h65vys, bUtipwzcV...\n",
       "515631                 [bYVzf4qQSDz8s6N32jVVdYeWAK1G1d3mGB]\n",
       "515632    [bLCvEBX4bTiWvaQzgYBj1Y92nk3zx9iL1d, bFced6Jfx...\n",
       "515633    [bN8rAeTy1Hxn1ifdsuzYeiyZbn35kCkWpD, bH7Vg6tnD...\n",
       "515634    [bJoJbkpf4uY1hUmUW47H1NED5nLhNv5Vrr, bV9CZc9d8...\n",
       "515635    [bJt8UXq43NDEFcqV2ZgDL7axVoUBK6UMTQ, baNpL8j3p...\n",
       "515636    [bRCfQHAz4m6AUGrMAbPwRNgJc6pTgeYKxH, bWhQHH991...\n",
       "515637    [bS74hjmL3oHHEZ9EcU47CHW73Lexzv2wqe, bVgoiPJbx...\n",
       "515638    [bDwBT1yEHmdNqNE1hxgYZCA7R3Dac6wZoi, bYNAtafXY...\n",
       "515639    [bE8f1y71H8oEg6nL9jphHs89tXEwa2HFj8, bG3hHPkMF...\n",
       "515640    [baVYfxw275Fqk4NECuZFujCNLaG5SvfxxB, bKPrNsmQF...\n",
       "515641    [bLMFcVG77LH74B9n6az7HkZpFTK7vvPWy9, bYw3xNcTw...\n",
       "515642    [bDevyRDpnX7ChNixoCZz1rzyAqk4CWZkJ7, bXxVzDvGA...\n",
       "515643    [bKEm8jtvg3b7aF32VSeR33okb3KPmZcAqV, bKL9YDErn...\n",
       "515644    [bPXXjtGau6FcFFovmQTvewSpPcCHocnnT8, bJZR5KyiY...\n",
       "Name: vout, dtype: object"
      ]
     },
     "execution_count": 49,
     "metadata": {},
     "output_type": "execute_result"
    }
   ],
   "source": [
    "tx_df.vout.map(lambda X: [x['addresses'] for x in X] )"
   ]
  },
  {
   "cell_type": "code",
   "execution_count": 38,
   "metadata": {
    "collapsed": false
   },
   "outputs": [
    {
     "ename": "TypeError",
     "evalue": "list indices must be integers, not str",
     "output_type": "error",
     "traceback": [
      "\u001b[0;31m---------------------------------------------------------------------------\u001b[0m",
      "\u001b[0;31mTypeError\u001b[0m                                 Traceback (most recent call last)",
      "\u001b[0;32m<ipython-input-38-2f852fbe72ea>\u001b[0m in \u001b[0;36m<module>\u001b[0;34m()\u001b[0m\n\u001b[0;32m----> 1\u001b[0;31m \u001b[0mtx_df\u001b[0m\u001b[0;34m[\u001b[0m\u001b[0;34m'out_address'\u001b[0m\u001b[0;34m]\u001b[0m \u001b[0;34m=\u001b[0m \u001b[0mtx_df\u001b[0m\u001b[0;34m.\u001b[0m\u001b[0mvout\u001b[0m\u001b[0;34m[\u001b[0m\u001b[0;36m0\u001b[0m\u001b[0;34m]\u001b[0m\u001b[0;34m[\u001b[0m\u001b[0;34m:\u001b[0m\u001b[0;34m]\u001b[0m\u001b[0;34m[\u001b[0m\u001b[0;34m'addresses'\u001b[0m\u001b[0;34m]\u001b[0m\u001b[0;34m\u001b[0m\u001b[0m\n\u001b[0m\u001b[1;32m      2\u001b[0m \u001b[0mtx_df\u001b[0m\u001b[0;34m[\u001b[0m\u001b[0;34m'in_address'\u001b[0m\u001b[0;34m]\u001b[0m \u001b[0;34m=\u001b[0m \u001b[0mtx_df\u001b[0m\u001b[0;34m.\u001b[0m\u001b[0mvin\u001b[0m\u001b[0;34m[\u001b[0m\u001b[0;36m0\u001b[0m\u001b[0;34m]\u001b[0m\u001b[0;34m[\u001b[0m\u001b[0;34m:\u001b[0m\u001b[0;34m]\u001b[0m\u001b[0;34m[\u001b[0m\u001b[0;34m'addresses'\u001b[0m\u001b[0;34m]\u001b[0m\u001b[0;34m\u001b[0m\u001b[0m\n",
      "\u001b[0;31mTypeError\u001b[0m: list indices must be integers, not str"
     ]
    }
   ],
   "source": [
    "tx_df['out_address'] = \n",
    "tx_df['in_address'] = "
   ]
  },
  {
   "cell_type": "code",
   "execution_count": 15,
   "metadata": {
    "collapsed": false
   },
   "outputs": [],
   "source": [
    "tx_df['out_amount']=\n",
    "tx_df['in_amount'] = "
   ]
  },
  {
   "cell_type": "code",
   "execution_count": 25,
   "metadata": {
    "collapsed": false
   },
   "outputs": [],
   "source": [
    "lbryKeys = labels.keys()\n",
    "tx_df['lbry_out'] = tx_df.out_address.map(lambda x: bool(x in lbryKeys))\n",
    "tx_df['lbry_in'] = tx_df.in_address.map(lambda x: bool(x in lbryKeys)) "
   ]
  },
  {
   "cell_type": "code",
   "execution_count": 26,
   "metadata": {
    "collapsed": false
   },
   "outputs": [],
   "source": [
    "relevent_tx = tx_df[(tx_df.lbry_out==True) | (tx_df.lbry_in==True)]\n"
   ]
  },
  {
   "cell_type": "code",
   "execution_count": 28,
   "metadata": {
    "collapsed": false
   },
   "outputs": [
    {
     "data": {
      "text/plain": [
       "['rEQKyb7nd7UUGyEEn5xRkk1fgXdTCf2ZCg',\n",
       " 'rTZF9RvfkLJ6hwCwERwFd7dppRMeddKjpe',\n",
       " 'bLPbiXBp6Vr3NSnsHzDsLNzoy5o36re9Cz',\n",
       " 'r9DarmxyPjWkF7ocyxMzaNZN3a9gJvNTZJ',\n",
       " 'bWbFyN8CJAghwavfRDuEfmv71swkapBcuy',\n",
       " 'rRmURzvpHTysU4xUSp9CXeosBTbYfKs7n5',\n",
       " 'rVRMmGLZenVXpT1NwYMGcnwFc642kEgWTV',\n",
       " 'bVUrbCK8hcZ5XWti7b9eNxKEBxzc1rr393',\n",
       " 'rMT5Sg8SyFP3ax2PRaweRCRZoMeYw4znEi',\n",
       " 'bDzuP6Sawe7tadVKR7dmPW1JFYK9ELnjra',\n",
       " 'bFgohv4wprdCEtW2m5EVQyVNtxp4NxQMXi',\n",
       " 'bHW58d37s1hBjj3wPBkn5zpCX3F8ZW3uWf']"
      ]
     },
     "execution_count": 28,
     "metadata": {},
     "output_type": "execute_result"
    }
   ],
   "source": [
    "lbryKeys"
   ]
  },
  {
   "cell_type": "code",
   "execution_count": 27,
   "metadata": {
    "collapsed": false
   },
   "outputs": [
    {
     "data": {
      "text/html": [
       "<div>\n",
       "<table border=\"1\" class=\"dataframe\">\n",
       "  <thead>\n",
       "    <tr style=\"text-align: right;\">\n",
       "      <th></th>\n",
       "      <th>blockhash</th>\n",
       "      <th>blockindex</th>\n",
       "      <th>timestamp</th>\n",
       "      <th>total</th>\n",
       "      <th>txid</th>\n",
       "      <th>vin</th>\n",
       "      <th>vout</th>\n",
       "      <th>datetime</th>\n",
       "      <th>reward</th>\n",
       "      <th>out_address</th>\n",
       "      <th>in_address</th>\n",
       "      <th>out_amount</th>\n",
       "      <th>in_amount</th>\n",
       "      <th>lbry_out</th>\n",
       "      <th>lbry_in</th>\n",
       "    </tr>\n",
       "  </thead>\n",
       "  <tbody>\n",
       "  </tbody>\n",
       "</table>\n",
       "</div>"
      ],
      "text/plain": [
       "Empty DataFrame\n",
       "Columns: [blockhash, blockindex, timestamp, total, txid, vin, vout, datetime, reward, out_address, in_address, out_amount, in_amount, lbry_out, lbry_in]\n",
       "Index: []"
      ]
     },
     "execution_count": 27,
     "metadata": {},
     "output_type": "execute_result"
    }
   ],
   "source": [
    "relevent_tx"
   ]
  },
  {
   "cell_type": "code",
   "execution_count": null,
   "metadata": {
    "collapsed": false
   },
   "outputs": [],
   "source": [
    "tx_df.plot(x=\"datetime\", y= \"reward\")\n",
    "plt.ylabel(\"LBC\")"
   ]
  },
  {
   "cell_type": "code",
   "execution_count": null,
   "metadata": {
    "collapsed": false
   },
   "outputs": [],
   "source": [
    "relevent_tx = pd.DataFrame([row[0] for row in address_df[address_df.label != \"unknown\"].txs])"
   ]
  },
  {
   "cell_type": "code",
   "execution_count": null,
   "metadata": {
    "collapsed": false
   },
   "outputs": [],
   "source": [
    "relevent_tx.addresses.values\n",
    "#these are transaction IDs"
   ]
  },
  {
   "cell_type": "code",
   "execution_count": null,
   "metadata": {
    "collapsed": false
   },
   "outputs": [],
   "source": []
  },
  {
   "cell_type": "markdown",
   "metadata": {},
   "source": [
    "We are going to use transaction ids, the blockchain database and the addresses table to create a history of the LBRY addresses named in \"labels\" and used for operating the business."
   ]
  },
  {
   "cell_type": "code",
   "execution_count": null,
   "metadata": {
    "collapsed": false
   },
   "outputs": [],
   "source": [
    "tx_df.blockindex.max()"
   ]
  },
  {
   "cell_type": "code",
   "execution_count": null,
   "metadata": {
    "collapsed": true
   },
   "outputs": [],
   "source": []
  }
 ],
 "metadata": {
  "kernelspec": {
   "display_name": "Python 2",
   "language": "python",
   "name": "python2"
  },
  "language_info": {
   "codemirror_mode": {
    "name": "ipython",
    "version": 2
   },
   "file_extension": ".py",
   "mimetype": "text/x-python",
   "name": "python",
   "nbconvert_exporter": "python",
   "pygments_lexer": "ipython2",
   "version": "2.7.12"
  }
 },
 "nbformat": 4,
 "nbformat_minor": 0
}
