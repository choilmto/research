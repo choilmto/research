{
 "cells": [
  {
   "cell_type": "markdown",
   "metadata": {},
   "source": [
    "Due to challenges faced trying to access the blockchain data en masse, i created a local instance of the lbry-explorer and this notebook leverages the mongoDB data source that exists as part of the lbry-explorer."
   ]
  },
  {
   "cell_type": "code",
   "execution_count": 1,
   "metadata": {
    "collapsed": false
   },
   "outputs": [],
   "source": [
    "import pandas as pd\n",
    "from pymongo import MongoClient\n",
    "import matplotlib.pyplot as plt\n",
    "import datetime\n",
    "%matplotlib inline"
   ]
  },
  {
   "cell_type": "code",
   "execution_count": 2,
   "metadata": {
    "collapsed": false
   },
   "outputs": [
    {
     "name": "stdout",
     "output_type": "stream",
     "text": [
      "········\n"
     ]
    }
   ],
   "source": [
    "import getpass\n",
    "password = getpass.getpass()"
   ]
  },
  {
   "cell_type": "code",
   "execution_count": 3,
   "metadata": {
    "collapsed": true
   },
   "outputs": [],
   "source": [
    "def connect_mongo(host, port, username, password, db):\n",
    "    \"\"\" A util for making a connection to mongo \"\"\"\n",
    "\n",
    "    if username and password:\n",
    "        mongo_uri = 'mongodb://%s:%s@%s:%s/%s' % (username, password, host, port, db)\n",
    "        conn = MongoClient(mongo_uri)\n",
    "    else:\n",
    "        conn = MongoClient(host, port)\n",
    "\n",
    "\n",
    "    return conn[db]\n",
    "\n",
    "\n",
    "def read_mongo(db, collection, host='localhost', port=27017, username=None, password=None, no_id=True):\n",
    "    \"\"\" Read from Mongo and Store into DataFrame \"\"\"\n",
    "\n",
    "    # Connect to MongoDB\n",
    "    db = connect_mongo(host=host, port=port, username=username, password=password, db=db)\n",
    "    \n",
    "    # Make a query to the specific DB and Collection\n",
    "    cursor = db[collection].find()\n",
    "    #print list(cursor)\n",
    "\n",
    "    # Expand the cursor and construct the DataFrame\n",
    "    df =  pd.DataFrame(list(cursor))\n",
    "\n",
    "    # Delete the _id\n",
    "    if no_id:\n",
    "        del df['_id']\n",
    "\n",
    "    return df.drop(\"__v\", axis=1)"
   ]
  },
  {
   "cell_type": "markdown",
   "metadata": {},
   "source": [
    "Collections:\n",
    "    addresses,\n",
    "    markets,\n",
    "    richlists,\n",
    "    stats,\n",
    "    txes"
   ]
  },
  {
   "cell_type": "code",
   "execution_count": 4,
   "metadata": {
    "collapsed": true
   },
   "outputs": [],
   "source": [
    "db = \"explorerdb\""
   ]
  },
  {
   "cell_type": "code",
   "execution_count": 5,
   "metadata": {
    "collapsed": false
   },
   "outputs": [],
   "source": [
    "address_df = read_mongo(db, \"addresses\", host='localhost', port=27017, username=\"zargham\", password=password)"
   ]
  },
  {
   "cell_type": "code",
   "execution_count": 6,
   "metadata": {
    "collapsed": false
   },
   "outputs": [
    {
     "data": {
      "text/html": [
       "<div>\n",
       "<table border=\"1\" class=\"dataframe\">\n",
       "  <thead>\n",
       "    <tr style=\"text-align: right;\">\n",
       "      <th></th>\n",
       "      <th>a_id</th>\n",
       "      <th>balance</th>\n",
       "      <th>received</th>\n",
       "      <th>sent</th>\n",
       "      <th>txs</th>\n",
       "    </tr>\n",
       "  </thead>\n",
       "  <tbody>\n",
       "    <tr>\n",
       "      <th>0</th>\n",
       "      <td>coinbase</td>\n",
       "      <td>0</td>\n",
       "      <td>0</td>\n",
       "      <td>9.244448e+14</td>\n",
       "      <td>[{u'type': u'vin', u'addresses': u'5dda81f4219...</td>\n",
       "    </tr>\n",
       "  </tbody>\n",
       "</table>\n",
       "</div>"
      ],
      "text/plain": [
       "       a_id  balance  received          sent  \\\n",
       "0  coinbase        0         0  9.244448e+14   \n",
       "\n",
       "                                                 txs  \n",
       "0  [{u'type': u'vin', u'addresses': u'5dda81f4219...  "
      ]
     },
     "execution_count": 6,
     "metadata": {},
     "output_type": "execute_result"
    }
   ],
   "source": [
    "address_df[address_df.a_id.map(lambda s: bool((s[0] != \"b\") & (s[0] !=\"r\")))].head()"
   ]
  },
  {
   "cell_type": "code",
   "execution_count": 8,
   "metadata": {
    "collapsed": true
   },
   "outputs": [],
   "source": [
    "def get_label(address):\n",
    "    if address in labels.keys():\n",
    "        return labels[address][\"label\"]\n",
    "    else:\n",
    "        return \"unknown\""
   ]
  },
  {
   "cell_type": "code",
   "execution_count": 9,
   "metadata": {
    "collapsed": false
   },
   "outputs": [],
   "source": [
    "address_df[\"label\"] = address_df.a_id.map(get_label)"
   ]
  },
  {
   "cell_type": "code",
   "execution_count": 10,
   "metadata": {
    "collapsed": false
   },
   "outputs": [
    {
     "data": {
      "text/html": [
       "<div>\n",
       "<table border=\"1\" class=\"dataframe\">\n",
       "  <thead>\n",
       "    <tr style=\"text-align: right;\">\n",
       "      <th></th>\n",
       "      <th>a_id</th>\n",
       "      <th>balance</th>\n",
       "      <th>received</th>\n",
       "      <th>sent</th>\n",
       "      <th>txs</th>\n",
       "      <th>label</th>\n",
       "    </tr>\n",
       "  </thead>\n",
       "  <tbody>\n",
       "    <tr>\n",
       "      <th>404</th>\n",
       "      <td>rEQKyb7nd7UUGyEEn5xRkk1fgXdTCf2ZCg</td>\n",
       "      <td>0.000000e+00</td>\n",
       "      <td>1.999000e+16</td>\n",
       "      <td>1.999000e+16</td>\n",
       "      <td>[{u'type': u'vout', u'addresses': u'32f0ab6b2a...</td>\n",
       "      <td>LBRY Team</td>\n",
       "    </tr>\n",
       "    <tr>\n",
       "      <th>406</th>\n",
       "      <td>rMT5Sg8SyFP3ax2PRaweRCRZoMeYw4znEi</td>\n",
       "      <td>0.000000e+00</td>\n",
       "      <td>3.980000e+16</td>\n",
       "      <td>3.980000e+16</td>\n",
       "      <td>[{u'type': u'vout', u'addresses': u'781c100a80...</td>\n",
       "      <td>Adoption Programs</td>\n",
       "    </tr>\n",
       "    <tr>\n",
       "      <th>410</th>\n",
       "      <td>r9DarmxyPjWkF7ocyxMzaNZN3a9gJvNTZJ</td>\n",
       "      <td>0.000000e+00</td>\n",
       "      <td>1.000000e+16</td>\n",
       "      <td>1.000000e+16</td>\n",
       "      <td>[{u'type': u'vout', u'addresses': u'9600945091...</td>\n",
       "      <td>Strategic Partners</td>\n",
       "    </tr>\n",
       "    <tr>\n",
       "      <th>424</th>\n",
       "      <td>bHW58d37s1hBjj3wPBkn5zpCX3F8ZW3uWf</td>\n",
       "      <td>4.000000e+16</td>\n",
       "      <td>0.000000e+00</td>\n",
       "      <td>4.000000e+16</td>\n",
       "      <td>[{u'type': u'vin', u'addresses': u'9a72043e11b...</td>\n",
       "      <td>LBRY Team Escrow (premine)</td>\n",
       "    </tr>\n",
       "    <tr>\n",
       "      <th>4057</th>\n",
       "      <td>bLPbiXBp6Vr3NSnsHzDsLNzoy5o36re9Cz</td>\n",
       "      <td>1.000090e+13</td>\n",
       "      <td>1.000090e+13</td>\n",
       "      <td>0.000000e+00</td>\n",
       "      <td>[{u'type': u'vout', u'addresses': u'e2f9cb21d4...</td>\n",
       "      <td>Investor</td>\n",
       "    </tr>\n",
       "    <tr>\n",
       "      <th>4163</th>\n",
       "      <td>bFgohv4wprdCEtW2m5EVQyVNtxp4NxQMXi</td>\n",
       "      <td>0.000000e+00</td>\n",
       "      <td>7.352650e+13</td>\n",
       "      <td>7.352650e+13</td>\n",
       "      <td>[{u'type': u'vout', u'addresses': u'7c77646740...</td>\n",
       "      <td>LBRY Hot Wallet</td>\n",
       "    </tr>\n",
       "    <tr>\n",
       "      <th>4833</th>\n",
       "      <td>bVUrbCK8hcZ5XWti7b9eNxKEBxzc1rr393</td>\n",
       "      <td>0.000000e+00</td>\n",
       "      <td>4.897770e+13</td>\n",
       "      <td>4.897770e+13</td>\n",
       "      <td>[{u'type': u'vout', u'addresses': u'ed8fc03abd...</td>\n",
       "      <td>LBRY Hot Wallet</td>\n",
       "    </tr>\n",
       "    <tr>\n",
       "      <th>128905</th>\n",
       "      <td>bDzuP6Sawe7tadVKR7dmPW1JFYK9ELnjra</td>\n",
       "      <td>1.450000e+14</td>\n",
       "      <td>2.984199e+14</td>\n",
       "      <td>1.534199e+14</td>\n",
       "      <td>[{u'type': u'vout', u'addresses': u'554d8fed52...</td>\n",
       "      <td>LBRY Hot Wallet</td>\n",
       "    </tr>\n",
       "    <tr>\n",
       "      <th>129116</th>\n",
       "      <td>bWbFyN8CJAghwavfRDuEfmv71swkapBcuy</td>\n",
       "      <td>0.000000e+00</td>\n",
       "      <td>8.419899e+12</td>\n",
       "      <td>8.419899e+12</td>\n",
       "      <td>[{u'type': u'vout', u'addresses': u'b72ffc5bb9...</td>\n",
       "      <td>LBRY Hot Wallet</td>\n",
       "    </tr>\n",
       "    <tr>\n",
       "      <th>236796</th>\n",
       "      <td>rVRMmGLZenVXpT1NwYMGcnwFc642kEgWTV</td>\n",
       "      <td>1.000000e+16</td>\n",
       "      <td>1.000000e+16</td>\n",
       "      <td>1.000000e+06</td>\n",
       "      <td>[{u'type': u'vout', u'addresses': u'73df395c9f...</td>\n",
       "      <td>Strategic Partners</td>\n",
       "    </tr>\n",
       "    <tr>\n",
       "      <th>236798</th>\n",
       "      <td>rTZF9RvfkLJ6hwCwERwFd7dppRMeddKjpe</td>\n",
       "      <td>9.990000e+15</td>\n",
       "      <td>9.990000e+15</td>\n",
       "      <td>1.000000e+06</td>\n",
       "      <td>[{u'type': u'vout', u'addresses': u'5dd2ab145d...</td>\n",
       "      <td>LBRY Team</td>\n",
       "    </tr>\n",
       "    <tr>\n",
       "      <th>236800</th>\n",
       "      <td>rRmURzvpHTysU4xUSp9CXeosBTbYfKs7n5</td>\n",
       "      <td>1.980000e+16</td>\n",
       "      <td>1.980000e+16</td>\n",
       "      <td>1.000000e+06</td>\n",
       "      <td>[{u'type': u'vout', u'addresses': u'b39f8d5b57...</td>\n",
       "      <td>Adoption Programs</td>\n",
       "    </tr>\n",
       "  </tbody>\n",
       "</table>\n",
       "</div>"
      ],
      "text/plain": [
       "                                      a_id       balance      received  \\\n",
       "404     rEQKyb7nd7UUGyEEn5xRkk1fgXdTCf2ZCg  0.000000e+00  1.999000e+16   \n",
       "406     rMT5Sg8SyFP3ax2PRaweRCRZoMeYw4znEi  0.000000e+00  3.980000e+16   \n",
       "410     r9DarmxyPjWkF7ocyxMzaNZN3a9gJvNTZJ  0.000000e+00  1.000000e+16   \n",
       "424     bHW58d37s1hBjj3wPBkn5zpCX3F8ZW3uWf  4.000000e+16  0.000000e+00   \n",
       "4057    bLPbiXBp6Vr3NSnsHzDsLNzoy5o36re9Cz  1.000090e+13  1.000090e+13   \n",
       "4163    bFgohv4wprdCEtW2m5EVQyVNtxp4NxQMXi  0.000000e+00  7.352650e+13   \n",
       "4833    bVUrbCK8hcZ5XWti7b9eNxKEBxzc1rr393  0.000000e+00  4.897770e+13   \n",
       "128905  bDzuP6Sawe7tadVKR7dmPW1JFYK9ELnjra  1.450000e+14  2.984199e+14   \n",
       "129116  bWbFyN8CJAghwavfRDuEfmv71swkapBcuy  0.000000e+00  8.419899e+12   \n",
       "236796  rVRMmGLZenVXpT1NwYMGcnwFc642kEgWTV  1.000000e+16  1.000000e+16   \n",
       "236798  rTZF9RvfkLJ6hwCwERwFd7dppRMeddKjpe  9.990000e+15  9.990000e+15   \n",
       "236800  rRmURzvpHTysU4xUSp9CXeosBTbYfKs7n5  1.980000e+16  1.980000e+16   \n",
       "\n",
       "                sent                                                txs  \\\n",
       "404     1.999000e+16  [{u'type': u'vout', u'addresses': u'32f0ab6b2a...   \n",
       "406     3.980000e+16  [{u'type': u'vout', u'addresses': u'781c100a80...   \n",
       "410     1.000000e+16  [{u'type': u'vout', u'addresses': u'9600945091...   \n",
       "424     4.000000e+16  [{u'type': u'vin', u'addresses': u'9a72043e11b...   \n",
       "4057    0.000000e+00  [{u'type': u'vout', u'addresses': u'e2f9cb21d4...   \n",
       "4163    7.352650e+13  [{u'type': u'vout', u'addresses': u'7c77646740...   \n",
       "4833    4.897770e+13  [{u'type': u'vout', u'addresses': u'ed8fc03abd...   \n",
       "128905  1.534199e+14  [{u'type': u'vout', u'addresses': u'554d8fed52...   \n",
       "129116  8.419899e+12  [{u'type': u'vout', u'addresses': u'b72ffc5bb9...   \n",
       "236796  1.000000e+06  [{u'type': u'vout', u'addresses': u'73df395c9f...   \n",
       "236798  1.000000e+06  [{u'type': u'vout', u'addresses': u'5dd2ab145d...   \n",
       "236800  1.000000e+06  [{u'type': u'vout', u'addresses': u'b39f8d5b57...   \n",
       "\n",
       "                             label  \n",
       "404                      LBRY Team  \n",
       "406              Adoption Programs  \n",
       "410             Strategic Partners  \n",
       "424     LBRY Team Escrow (premine)  \n",
       "4057                      Investor  \n",
       "4163               LBRY Hot Wallet  \n",
       "4833               LBRY Hot Wallet  \n",
       "128905             LBRY Hot Wallet  \n",
       "129116             LBRY Hot Wallet  \n",
       "236796          Strategic Partners  \n",
       "236798                   LBRY Team  \n",
       "236800           Adoption Programs  "
      ]
     },
     "execution_count": 10,
     "metadata": {},
     "output_type": "execute_result"
    }
   ],
   "source": [
    "address_df[address_df.label != \"unknown\"]"
   ]
  },
  {
   "cell_type": "code",
   "execution_count": 11,
   "metadata": {
    "collapsed": true
   },
   "outputs": [],
   "source": [
    "tx_df = read_mongo(db, \"txes\", host='localhost', port=27017, username=\"zargham\", password=password)"
   ]
  },
  {
   "cell_type": "code",
   "execution_count": 12,
   "metadata": {
    "collapsed": false
   },
   "outputs": [],
   "source": [
    "import pytz\n",
    "tz = pytz.timezone('America/Montreal')\n",
    "tx_df[\"datetime\"] = tx_df.timestamp.map(lambda t: datetime.datetime.fromtimestamp(int(t), tz))"
   ]
  },
  {
   "cell_type": "code",
   "execution_count": 7,
   "metadata": {
    "collapsed": true
   },
   "outputs": [],
   "source": []
  },
  {
   "cell_type": "code",
   "execution_count": 13,
   "metadata": {
    "collapsed": true
   },
   "outputs": [],
   "source": [
    "#jacks reward function\n",
    "COIN = 10**8\n",
    "block_time = 150\n",
    "blocks_per_ramp = 100\n",
    "start_ramp_height = 5001\n",
    "limit = 1083221000 * COIN\n",
    "subsidy_interval = 1 << 5\n",
    "max_reductions = 500\n",
    "peak_reward = 500 * COIN\n",
    "premine = 400000000 * COIN\n",
    "\n",
    "\n",
    "def reward(n):\n",
    "    assert n >= 0\n",
    "    if n < 5001:\n",
    "        return COIN\n",
    "    elif n < 55001:\n",
    "        r = 1 + ((n - ((n - start_ramp_height) % blocks_per_ramp) - start_ramp_height) / blocks_per_ramp)\n",
    "        return r * COIN\n",
    "    else:\n",
    "        level = int((n - 55001) / subsidy_interval)\n",
    "        reduction = int((-1 + int((8 * level) + 1) ** 0.5) / 2)\n",
    "        while level >= ((reduction * reduction + reduction) >> 1):\n",
    "            if ((reduction * reduction + reduction) >> 1) > level:\n",
    "                reduction -= 1\n",
    "            else:\n",
    "                reduction += 1\n",
    "        if reduction * COIN >= peak_reward:\n",
    "            return 0\n",
    "        return peak_reward - (reduction * COIN)"
   ]
  },
  {
   "cell_type": "code",
   "execution_count": 14,
   "metadata": {
    "collapsed": true
   },
   "outputs": [],
   "source": [
    "tx_df[\"reward\"] = tx_df.blockindex.map(reward)/COIN #coin converts Deweys to LBC"
   ]
  },
  {
   "cell_type": "code",
   "execution_count": 62,
   "metadata": {
    "collapsed": false
   },
   "outputs": [],
   "source": [
    "cb_df=tx_df[tx_df.vin.map(lambda X: \"coinbase\" in [x['addresses'] for x in X] )]"
   ]
  },
  {
   "cell_type": "code",
   "execution_count": 64,
   "metadata": {
    "collapsed": false
   },
   "outputs": [
    {
     "data": {
      "text/html": [
       "<div>\n",
       "<table border=\"1\" class=\"dataframe\">\n",
       "  <thead>\n",
       "    <tr style=\"text-align: right;\">\n",
       "      <th></th>\n",
       "      <th>blockhash</th>\n",
       "      <th>blockindex</th>\n",
       "      <th>timestamp</th>\n",
       "      <th>total</th>\n",
       "      <th>txid</th>\n",
       "      <th>vin</th>\n",
       "      <th>vout</th>\n",
       "      <th>datetime</th>\n",
       "      <th>reward</th>\n",
       "      <th>out_address</th>\n",
       "      <th>in_address</th>\n",
       "      <th>out_amount</th>\n",
       "      <th>in_amount</th>\n",
       "      <th>lbry_out</th>\n",
       "      <th>lbry_in</th>\n",
       "    </tr>\n",
       "  </thead>\n",
       "  <tbody>\n",
       "    <tr>\n",
       "      <th>515575</th>\n",
       "      <td>923f40e68e4cce3f73d8cee24a9802600fe7a79bc0944c...</td>\n",
       "      <td>47933</td>\n",
       "      <td>1474329439</td>\n",
       "      <td>43000004520</td>\n",
       "      <td>ed1d55b396ed22ab9e5a17aee00c266230e3592c63a983...</td>\n",
       "      <td>[{u'amount': 43000004520.0, u'addresses': u'co...</td>\n",
       "      <td>[{u'amount': 43000004520.0, u'addresses': u'bE...</td>\n",
       "      <td>2016-09-19 19:57:19-04:00</td>\n",
       "      <td>430</td>\n",
       "      <td>bZi1WEjGtsdAwuZTnNNTCAZLxhHkiHec4m</td>\n",
       "      <td>coinbase</td>\n",
       "      <td>100000000</td>\n",
       "      <td>100000000</td>\n",
       "      <td>False</td>\n",
       "      <td>False</td>\n",
       "    </tr>\n",
       "    <tr>\n",
       "      <th>515577</th>\n",
       "      <td>0bcbc9f8c17f19382c864c10cc31b1493e1a5f15db2132...</td>\n",
       "      <td>47934</td>\n",
       "      <td>1474329462</td>\n",
       "      <td>43000000000</td>\n",
       "      <td>891c7a847f08adbc5110bacae3be872404d75cf863e84f...</td>\n",
       "      <td>[{u'amount': 43000000000.0, u'addresses': u'co...</td>\n",
       "      <td>[{u'amount': 43000000000.0, u'addresses': u'bX...</td>\n",
       "      <td>2016-09-19 19:57:42-04:00</td>\n",
       "      <td>430</td>\n",
       "      <td>bZi1WEjGtsdAwuZTnNNTCAZLxhHkiHec4m</td>\n",
       "      <td>coinbase</td>\n",
       "      <td>100000000</td>\n",
       "      <td>100000000</td>\n",
       "      <td>False</td>\n",
       "      <td>False</td>\n",
       "    </tr>\n",
       "    <tr>\n",
       "      <th>515578</th>\n",
       "      <td>d95e7b4ea395b74edb76cab43a433b5f6bc06065f46623...</td>\n",
       "      <td>47935</td>\n",
       "      <td>1474329602</td>\n",
       "      <td>43000234500</td>\n",
       "      <td>6d96d3084a6c3de9ebe4d92a7a732dab4c86ed6213b89b...</td>\n",
       "      <td>[{u'amount': 43000234500.0, u'addresses': u'co...</td>\n",
       "      <td>[{u'amount': 43000234500.0, u'addresses': u'bE...</td>\n",
       "      <td>2016-09-19 20:00:02-04:00</td>\n",
       "      <td>430</td>\n",
       "      <td>bZi1WEjGtsdAwuZTnNNTCAZLxhHkiHec4m</td>\n",
       "      <td>coinbase</td>\n",
       "      <td>100000000</td>\n",
       "      <td>100000000</td>\n",
       "      <td>False</td>\n",
       "      <td>False</td>\n",
       "    </tr>\n",
       "    <tr>\n",
       "      <th>515629</th>\n",
       "      <td>aa9cbff393139d36d7ca2afe7eb89a6d4d78f4505ec50a...</td>\n",
       "      <td>47936</td>\n",
       "      <td>1474330135</td>\n",
       "      <td>43000004520</td>\n",
       "      <td>6b6d48a1767b52e975409aea249d4ef1bd4725ed3d383d...</td>\n",
       "      <td>[{u'amount': 43000004520.0, u'addresses': u'co...</td>\n",
       "      <td>[{u'amount': 43000004520.0, u'addresses': u'bE...</td>\n",
       "      <td>2016-09-19 20:08:55-04:00</td>\n",
       "      <td>430</td>\n",
       "      <td>bZi1WEjGtsdAwuZTnNNTCAZLxhHkiHec4m</td>\n",
       "      <td>coinbase</td>\n",
       "      <td>100000000</td>\n",
       "      <td>100000000</td>\n",
       "      <td>False</td>\n",
       "      <td>False</td>\n",
       "    </tr>\n",
       "    <tr>\n",
       "      <th>515631</th>\n",
       "      <td>8850fafc3f56faed531ae6ec16e1535336f372f7ef3907...</td>\n",
       "      <td>47937</td>\n",
       "      <td>1474330243</td>\n",
       "      <td>43000061700</td>\n",
       "      <td>6507659cb237c5b26743167b0a7024e9687cb623bd36c4...</td>\n",
       "      <td>[{u'amount': 43000061700.0, u'addresses': u'co...</td>\n",
       "      <td>[{u'amount': 43000061700.0, u'addresses': u'bY...</td>\n",
       "      <td>2016-09-19 20:10:43-04:00</td>\n",
       "      <td>430</td>\n",
       "      <td>bZi1WEjGtsdAwuZTnNNTCAZLxhHkiHec4m</td>\n",
       "      <td>coinbase</td>\n",
       "      <td>100000000</td>\n",
       "      <td>100000000</td>\n",
       "      <td>False</td>\n",
       "      <td>False</td>\n",
       "    </tr>\n",
       "  </tbody>\n",
       "</table>\n",
       "</div>"
      ],
      "text/plain": [
       "                                                blockhash  blockindex  \\\n",
       "515575  923f40e68e4cce3f73d8cee24a9802600fe7a79bc0944c...       47933   \n",
       "515577  0bcbc9f8c17f19382c864c10cc31b1493e1a5f15db2132...       47934   \n",
       "515578  d95e7b4ea395b74edb76cab43a433b5f6bc06065f46623...       47935   \n",
       "515629  aa9cbff393139d36d7ca2afe7eb89a6d4d78f4505ec50a...       47936   \n",
       "515631  8850fafc3f56faed531ae6ec16e1535336f372f7ef3907...       47937   \n",
       "\n",
       "         timestamp        total  \\\n",
       "515575  1474329439  43000004520   \n",
       "515577  1474329462  43000000000   \n",
       "515578  1474329602  43000234500   \n",
       "515629  1474330135  43000004520   \n",
       "515631  1474330243  43000061700   \n",
       "\n",
       "                                                     txid  \\\n",
       "515575  ed1d55b396ed22ab9e5a17aee00c266230e3592c63a983...   \n",
       "515577  891c7a847f08adbc5110bacae3be872404d75cf863e84f...   \n",
       "515578  6d96d3084a6c3de9ebe4d92a7a732dab4c86ed6213b89b...   \n",
       "515629  6b6d48a1767b52e975409aea249d4ef1bd4725ed3d383d...   \n",
       "515631  6507659cb237c5b26743167b0a7024e9687cb623bd36c4...   \n",
       "\n",
       "                                                      vin  \\\n",
       "515575  [{u'amount': 43000004520.0, u'addresses': u'co...   \n",
       "515577  [{u'amount': 43000000000.0, u'addresses': u'co...   \n",
       "515578  [{u'amount': 43000234500.0, u'addresses': u'co...   \n",
       "515629  [{u'amount': 43000004520.0, u'addresses': u'co...   \n",
       "515631  [{u'amount': 43000061700.0, u'addresses': u'co...   \n",
       "\n",
       "                                                     vout  \\\n",
       "515575  [{u'amount': 43000004520.0, u'addresses': u'bE...   \n",
       "515577  [{u'amount': 43000000000.0, u'addresses': u'bX...   \n",
       "515578  [{u'amount': 43000234500.0, u'addresses': u'bE...   \n",
       "515629  [{u'amount': 43000004520.0, u'addresses': u'bE...   \n",
       "515631  [{u'amount': 43000061700.0, u'addresses': u'bY...   \n",
       "\n",
       "                         datetime  reward                         out_address  \\\n",
       "515575  2016-09-19 19:57:19-04:00     430  bZi1WEjGtsdAwuZTnNNTCAZLxhHkiHec4m   \n",
       "515577  2016-09-19 19:57:42-04:00     430  bZi1WEjGtsdAwuZTnNNTCAZLxhHkiHec4m   \n",
       "515578  2016-09-19 20:00:02-04:00     430  bZi1WEjGtsdAwuZTnNNTCAZLxhHkiHec4m   \n",
       "515629  2016-09-19 20:08:55-04:00     430  bZi1WEjGtsdAwuZTnNNTCAZLxhHkiHec4m   \n",
       "515631  2016-09-19 20:10:43-04:00     430  bZi1WEjGtsdAwuZTnNNTCAZLxhHkiHec4m   \n",
       "\n",
       "       in_address  out_amount  in_amount lbry_out lbry_in  \n",
       "515575   coinbase   100000000  100000000    False   False  \n",
       "515577   coinbase   100000000  100000000    False   False  \n",
       "515578   coinbase   100000000  100000000    False   False  \n",
       "515629   coinbase   100000000  100000000    False   False  \n",
       "515631   coinbase   100000000  100000000    False   False  "
      ]
     },
     "execution_count": 64,
     "metadata": {},
     "output_type": "execute_result"
    }
   ],
   "source": [
    "cb_df.tail()"
   ]
  },
  {
   "cell_type": "code",
   "execution_count": 56,
   "metadata": {
    "collapsed": false
   },
   "outputs": [
    {
     "name": "stdout",
     "output_type": "stream",
     "text": [
      "0            [bZi1WEjGtsdAwuZTnNNTCAZLxhHkiHec4m, coinbase]\n",
      "1            [bZi1WEjGtsdAwuZTnNNTCAZLxhHkiHec4m, coinbase]\n",
      "2            [bZi1WEjGtsdAwuZTnNNTCAZLxhHkiHec4m, coinbase]\n",
      "3            [bZi1WEjGtsdAwuZTnNNTCAZLxhHkiHec4m, coinbase]\n",
      "4            [bZi1WEjGtsdAwuZTnNNTCAZLxhHkiHec4m, coinbase]\n",
      "5            [bZi1WEjGtsdAwuZTnNNTCAZLxhHkiHec4m, coinbase]\n",
      "6            [bZi1WEjGtsdAwuZTnNNTCAZLxhHkiHec4m, coinbase]\n",
      "7            [bZi1WEjGtsdAwuZTnNNTCAZLxhHkiHec4m, coinbase]\n",
      "8            [bZi1WEjGtsdAwuZTnNNTCAZLxhHkiHec4m, coinbase]\n",
      "9            [bZi1WEjGtsdAwuZTnNNTCAZLxhHkiHec4m, coinbase]\n",
      "10           [bZi1WEjGtsdAwuZTnNNTCAZLxhHkiHec4m, coinbase]\n",
      "11           [bZi1WEjGtsdAwuZTnNNTCAZLxhHkiHec4m, coinbase]\n",
      "12           [bZi1WEjGtsdAwuZTnNNTCAZLxhHkiHec4m, coinbase]\n",
      "13           [bZi1WEjGtsdAwuZTnNNTCAZLxhHkiHec4m, coinbase]\n",
      "14           [bZi1WEjGtsdAwuZTnNNTCAZLxhHkiHec4m, coinbase]\n",
      "15           [bZi1WEjGtsdAwuZTnNNTCAZLxhHkiHec4m, coinbase]\n",
      "16           [bZi1WEjGtsdAwuZTnNNTCAZLxhHkiHec4m, coinbase]\n",
      "17           [bZi1WEjGtsdAwuZTnNNTCAZLxhHkiHec4m, coinbase]\n",
      "18           [bZi1WEjGtsdAwuZTnNNTCAZLxhHkiHec4m, coinbase]\n",
      "19           [bZi1WEjGtsdAwuZTnNNTCAZLxhHkiHec4m, coinbase]\n",
      "20           [bHcW58gvFRwNxbLavijDaQRQB6jx1vYT94, coinbase]\n",
      "21           [bZi1WEjGtsdAwuZTnNNTCAZLxhHkiHec4m, coinbase]\n",
      "22           [bHcW58gvFRwNxbLavijDaQRQB6jx1vYT94, coinbase]\n",
      "23           [bZi1WEjGtsdAwuZTnNNTCAZLxhHkiHec4m, coinbase]\n",
      "24           [bHcW58gvFRwNxbLavijDaQRQB6jx1vYT94, coinbase]\n",
      "25           [bZi1WEjGtsdAwuZTnNNTCAZLxhHkiHec4m, coinbase]\n",
      "26           [bXr6EecQmwc6e6PCU1ZehRo9oBGdYRCADT, coinbase]\n",
      "27           [bXr6EecQmwc6e6PCU1ZehRo9oBGdYRCADT, coinbase]\n",
      "28           [bZi1WEjGtsdAwuZTnNNTCAZLxhHkiHec4m, coinbase]\n",
      "29           [bXr6EecQmwc6e6PCU1ZehRo9oBGdYRCADT, coinbase]\n",
      "                                ...                        \n",
      "515615    [bL49smE8z9XuLZG7BYeWgRhqmk76bZC9jD, bHkF72zjN...\n",
      "515616    [bEmpDzCQgpcFhSXH9kYFKWg3K7eENeuJtm, bK8VNzJxr...\n",
      "515617    [ba6w1gEeVq6p7LFzvCjPTpYZy4QUk9LK8b, bVXWVcLxW...\n",
      "515618    [bEaSdeXGgN9CMbwMa52djjcmngkQ1hSWDL, bMh2i9suT...\n",
      "515619    [bb4GW8D3q3mAw6o9UukiC7zsZB6spxDykC, bCmMd319j...\n",
      "515620    [bHmsdr9sfpDwa7qSmRzr6mtWBeKqu36TyE, ba2U6ezim...\n",
      "515621    [bXzLaSxwqmtovikxR8FYVqTr4WX3NrrR7U, bNwHdfpLD...\n",
      "515622    [bL41oiNar4bqCYnYXBWZ9Xy5d5uSWCo34z, baa9r2TRU...\n",
      "515623    [bb1qSVqwfuTC1B9YePRgnMpyHujzkNkRgJ, bKYWJPCSp...\n",
      "515624    [bT2sYE4u6WhJKviXCAvmJdd5FxPmnxdp4y, bKD7gjxBo...\n",
      "515625    [bKGH875X4oVJ2w5KmpjZEAK2sXGQHbVjgC, bPvkGRdNT...\n",
      "515626    [bK7GX91mJc78RMT7asGF2h9DLBvRuZAQLn, bZbMD4iqf...\n",
      "515627    [bJoJbkpf4uY1hUmUW47H1NED5nLhNv5Vrr, bRXV6Xpgj...\n",
      "515628    [bZHHoJnwz7uEzVmnpfFcomYPfgpkw9oZ69, baLUG3oTM...\n",
      "515629       [bE8jHdbnDWYpX3CUreSQG8WnnwkBzW2vFv, coinbase]\n",
      "515630    [bVPeEh54VKB8wMNEKkL6HjCMi2S6h65vys, bUtipwzcV...\n",
      "515631       [bYVzf4qQSDz8s6N32jVVdYeWAK1G1d3mGB, coinbase]\n",
      "515632    [bLCvEBX4bTiWvaQzgYBj1Y92nk3zx9iL1d, bFced6Jfx...\n",
      "515633    [bN8rAeTy1Hxn1ifdsuzYeiyZbn35kCkWpD, bH7Vg6tnD...\n",
      "515634    [bJoJbkpf4uY1hUmUW47H1NED5nLhNv5Vrr, bV9CZc9d8...\n",
      "515635    [bJt8UXq43NDEFcqV2ZgDL7axVoUBK6UMTQ, baNpL8j3p...\n",
      "515636    [bRCfQHAz4m6AUGrMAbPwRNgJc6pTgeYKxH, bWhQHH991...\n",
      "515637    [bS74hjmL3oHHEZ9EcU47CHW73Lexzv2wqe, bVgoiPJbx...\n",
      "515638    [bDwBT1yEHmdNqNE1hxgYZCA7R3Dac6wZoi, bYNAtafXY...\n",
      "515639    [bE8f1y71H8oEg6nL9jphHs89tXEwa2HFj8, bG3hHPkMF...\n",
      "515640    [baVYfxw275Fqk4NECuZFujCNLaG5SvfxxB, bKPrNsmQF...\n",
      "515641    [bLMFcVG77LH74B9n6az7HkZpFTK7vvPWy9, bYw3xNcTw...\n",
      "515642    [bDevyRDpnX7ChNixoCZz1rzyAqk4CWZkJ7, bXxVzDvGA...\n",
      "515643    [bKEm8jtvg3b7aF32VSeR33okb3KPmZcAqV, bKL9YDErn...\n",
      "515644    [bPXXjtGau6FcFFovmQTvewSpPcCHocnnT8, bJZR5KyiY...\n",
      "dtype: object\n"
     ]
    }
   ],
   "source": [
    "print tx_df.vout.map(lambda X: [x['addresses'] for x in X])+tx_df.vin.map(lambda X: [x['addresses'] for x in X] )"
   ]
  },
  {
   "cell_type": "code",
   "execution_count": 65,
   "metadata": {
    "collapsed": false
   },
   "outputs": [
    {
     "data": {
      "text/html": [
       "<div>\n",
       "<table border=\"1\" class=\"dataframe\">\n",
       "  <thead>\n",
       "    <tr style=\"text-align: right;\">\n",
       "      <th></th>\n",
       "      <th>blockhash</th>\n",
       "      <th>blockindex</th>\n",
       "      <th>timestamp</th>\n",
       "      <th>total</th>\n",
       "      <th>txid</th>\n",
       "      <th>vin</th>\n",
       "      <th>vout</th>\n",
       "      <th>datetime</th>\n",
       "      <th>reward</th>\n",
       "      <th>out_address</th>\n",
       "      <th>in_address</th>\n",
       "      <th>out_amount</th>\n",
       "      <th>in_amount</th>\n",
       "      <th>lbry_out</th>\n",
       "      <th>lbry_in</th>\n",
       "    </tr>\n",
       "  </thead>\n",
       "  <tbody>\n",
       "    <tr>\n",
       "      <th>0</th>\n",
       "      <td>decb9e2cca03a419fd9cca0cb2b1d5ad11b088f22f8f38...</td>\n",
       "      <td>1</td>\n",
       "      <td>1466646588</td>\n",
       "      <td>100000000</td>\n",
       "      <td>5dda81f42196d2647a173b008d729cf778d3f609adf846...</td>\n",
       "      <td>[{u'amount': 100000000, u'addresses': u'coinba...</td>\n",
       "      <td>[{u'amount': 100000000, u'addresses': u'bZi1WE...</td>\n",
       "      <td>2016-06-22 21:49:48-04:00</td>\n",
       "      <td>1</td>\n",
       "      <td>bZi1WEjGtsdAwuZTnNNTCAZLxhHkiHec4m</td>\n",
       "      <td>coinbase</td>\n",
       "      <td>100000000</td>\n",
       "      <td>100000000</td>\n",
       "      <td>False</td>\n",
       "      <td>False</td>\n",
       "    </tr>\n",
       "    <tr>\n",
       "      <th>1</th>\n",
       "      <td>28547a040490cc48c6c130622631bb52bc5388f98fc287...</td>\n",
       "      <td>2</td>\n",
       "      <td>1466646589</td>\n",
       "      <td>100000000</td>\n",
       "      <td>479dbab52d36a3223f0c4c2f2fc7fbdd44154917af3c65...</td>\n",
       "      <td>[{u'amount': 100000000, u'addresses': u'coinba...</td>\n",
       "      <td>[{u'amount': 100000000, u'addresses': u'bZi1WE...</td>\n",
       "      <td>2016-06-22 21:49:49-04:00</td>\n",
       "      <td>1</td>\n",
       "      <td>bZi1WEjGtsdAwuZTnNNTCAZLxhHkiHec4m</td>\n",
       "      <td>coinbase</td>\n",
       "      <td>100000000</td>\n",
       "      <td>100000000</td>\n",
       "      <td>False</td>\n",
       "      <td>False</td>\n",
       "    </tr>\n",
       "    <tr>\n",
       "      <th>2</th>\n",
       "      <td>c919ad56b3fdfc23f55bb9fba14d1211f3972ff63b2021...</td>\n",
       "      <td>3</td>\n",
       "      <td>1466646589</td>\n",
       "      <td>100000000</td>\n",
       "      <td>1a76ca5e68384568197beb1e6da885e10e1617a7364592...</td>\n",
       "      <td>[{u'amount': 100000000, u'addresses': u'coinba...</td>\n",
       "      <td>[{u'amount': 100000000, u'addresses': u'bZi1WE...</td>\n",
       "      <td>2016-06-22 21:49:49-04:00</td>\n",
       "      <td>1</td>\n",
       "      <td>bZi1WEjGtsdAwuZTnNNTCAZLxhHkiHec4m</td>\n",
       "      <td>coinbase</td>\n",
       "      <td>100000000</td>\n",
       "      <td>100000000</td>\n",
       "      <td>False</td>\n",
       "      <td>False</td>\n",
       "    </tr>\n",
       "    <tr>\n",
       "      <th>3</th>\n",
       "      <td>d557e01dffd10b7dddc84f7c3596176bd97cba36b3f67f...</td>\n",
       "      <td>4</td>\n",
       "      <td>1466646590</td>\n",
       "      <td>100000000</td>\n",
       "      <td>0cc8fe1387560146d4a315a6d89c117207940c5ba9b750...</td>\n",
       "      <td>[{u'amount': 100000000, u'addresses': u'coinba...</td>\n",
       "      <td>[{u'amount': 100000000, u'addresses': u'bZi1WE...</td>\n",
       "      <td>2016-06-22 21:49:50-04:00</td>\n",
       "      <td>1</td>\n",
       "      <td>bZi1WEjGtsdAwuZTnNNTCAZLxhHkiHec4m</td>\n",
       "      <td>coinbase</td>\n",
       "      <td>100000000</td>\n",
       "      <td>100000000</td>\n",
       "      <td>False</td>\n",
       "      <td>False</td>\n",
       "    </tr>\n",
       "    <tr>\n",
       "      <th>4</th>\n",
       "      <td>4ca73d305d9dcde059c482593df71c75ca89a74967ed13...</td>\n",
       "      <td>5</td>\n",
       "      <td>1466646590</td>\n",
       "      <td>100000000</td>\n",
       "      <td>79c5eccaf593a860975f756660df64520e8666753b1ae8...</td>\n",
       "      <td>[{u'amount': 100000000, u'addresses': u'coinba...</td>\n",
       "      <td>[{u'amount': 100000000, u'addresses': u'bZi1WE...</td>\n",
       "      <td>2016-06-22 21:49:50-04:00</td>\n",
       "      <td>1</td>\n",
       "      <td>bZi1WEjGtsdAwuZTnNNTCAZLxhHkiHec4m</td>\n",
       "      <td>coinbase</td>\n",
       "      <td>100000000</td>\n",
       "      <td>100000000</td>\n",
       "      <td>False</td>\n",
       "      <td>False</td>\n",
       "    </tr>\n",
       "  </tbody>\n",
       "</table>\n",
       "</div>"
      ],
      "text/plain": [
       "                                           blockhash  blockindex   timestamp  \\\n",
       "0  decb9e2cca03a419fd9cca0cb2b1d5ad11b088f22f8f38...           1  1466646588   \n",
       "1  28547a040490cc48c6c130622631bb52bc5388f98fc287...           2  1466646589   \n",
       "2  c919ad56b3fdfc23f55bb9fba14d1211f3972ff63b2021...           3  1466646589   \n",
       "3  d557e01dffd10b7dddc84f7c3596176bd97cba36b3f67f...           4  1466646590   \n",
       "4  4ca73d305d9dcde059c482593df71c75ca89a74967ed13...           5  1466646590   \n",
       "\n",
       "       total                                               txid  \\\n",
       "0  100000000  5dda81f42196d2647a173b008d729cf778d3f609adf846...   \n",
       "1  100000000  479dbab52d36a3223f0c4c2f2fc7fbdd44154917af3c65...   \n",
       "2  100000000  1a76ca5e68384568197beb1e6da885e10e1617a7364592...   \n",
       "3  100000000  0cc8fe1387560146d4a315a6d89c117207940c5ba9b750...   \n",
       "4  100000000  79c5eccaf593a860975f756660df64520e8666753b1ae8...   \n",
       "\n",
       "                                                 vin  \\\n",
       "0  [{u'amount': 100000000, u'addresses': u'coinba...   \n",
       "1  [{u'amount': 100000000, u'addresses': u'coinba...   \n",
       "2  [{u'amount': 100000000, u'addresses': u'coinba...   \n",
       "3  [{u'amount': 100000000, u'addresses': u'coinba...   \n",
       "4  [{u'amount': 100000000, u'addresses': u'coinba...   \n",
       "\n",
       "                                                vout  \\\n",
       "0  [{u'amount': 100000000, u'addresses': u'bZi1WE...   \n",
       "1  [{u'amount': 100000000, u'addresses': u'bZi1WE...   \n",
       "2  [{u'amount': 100000000, u'addresses': u'bZi1WE...   \n",
       "3  [{u'amount': 100000000, u'addresses': u'bZi1WE...   \n",
       "4  [{u'amount': 100000000, u'addresses': u'bZi1WE...   \n",
       "\n",
       "                    datetime  reward                         out_address  \\\n",
       "0  2016-06-22 21:49:48-04:00       1  bZi1WEjGtsdAwuZTnNNTCAZLxhHkiHec4m   \n",
       "1  2016-06-22 21:49:49-04:00       1  bZi1WEjGtsdAwuZTnNNTCAZLxhHkiHec4m   \n",
       "2  2016-06-22 21:49:49-04:00       1  bZi1WEjGtsdAwuZTnNNTCAZLxhHkiHec4m   \n",
       "3  2016-06-22 21:49:50-04:00       1  bZi1WEjGtsdAwuZTnNNTCAZLxhHkiHec4m   \n",
       "4  2016-06-22 21:49:50-04:00       1  bZi1WEjGtsdAwuZTnNNTCAZLxhHkiHec4m   \n",
       "\n",
       "  in_address  out_amount  in_amount lbry_out lbry_in  \n",
       "0   coinbase   100000000  100000000    False   False  \n",
       "1   coinbase   100000000  100000000    False   False  \n",
       "2   coinbase   100000000  100000000    False   False  \n",
       "3   coinbase   100000000  100000000    False   False  \n",
       "4   coinbase   100000000  100000000    False   False  "
      ]
     },
     "execution_count": 65,
     "metadata": {},
     "output_type": "execute_result"
    }
   ],
   "source": [
    "tx_df.head()"
   ]
  },
  {
   "cell_type": "code",
   "execution_count": 38,
   "metadata": {
    "collapsed": false
   },
   "outputs": [
    {
     "ename": "TypeError",
     "evalue": "list indices must be integers, not str",
     "output_type": "error",
     "traceback": [
      "\u001b[0;31m---------------------------------------------------------------------------\u001b[0m",
      "\u001b[0;31mTypeError\u001b[0m                                 Traceback (most recent call last)",
      "\u001b[0;32m<ipython-input-38-2f852fbe72ea>\u001b[0m in \u001b[0;36m<module>\u001b[0;34m()\u001b[0m\n\u001b[0;32m----> 1\u001b[0;31m \u001b[0mtx_df\u001b[0m\u001b[0;34m[\u001b[0m\u001b[0;34m'out_address'\u001b[0m\u001b[0;34m]\u001b[0m \u001b[0;34m=\u001b[0m \u001b[0mtx_df\u001b[0m\u001b[0;34m.\u001b[0m\u001b[0mvout\u001b[0m\u001b[0;34m[\u001b[0m\u001b[0;36m0\u001b[0m\u001b[0;34m]\u001b[0m\u001b[0;34m[\u001b[0m\u001b[0;34m:\u001b[0m\u001b[0;34m]\u001b[0m\u001b[0;34m[\u001b[0m\u001b[0;34m'addresses'\u001b[0m\u001b[0;34m]\u001b[0m\u001b[0;34m\u001b[0m\u001b[0m\n\u001b[0m\u001b[1;32m      2\u001b[0m \u001b[0mtx_df\u001b[0m\u001b[0;34m[\u001b[0m\u001b[0;34m'in_address'\u001b[0m\u001b[0;34m]\u001b[0m \u001b[0;34m=\u001b[0m \u001b[0mtx_df\u001b[0m\u001b[0;34m.\u001b[0m\u001b[0mvin\u001b[0m\u001b[0;34m[\u001b[0m\u001b[0;36m0\u001b[0m\u001b[0;34m]\u001b[0m\u001b[0;34m[\u001b[0m\u001b[0;34m:\u001b[0m\u001b[0;34m]\u001b[0m\u001b[0;34m[\u001b[0m\u001b[0;34m'addresses'\u001b[0m\u001b[0;34m]\u001b[0m\u001b[0;34m\u001b[0m\u001b[0m\n",
      "\u001b[0;31mTypeError\u001b[0m: list indices must be integers, not str"
     ]
    }
   ],
   "source": [
    "tx_df['out_address'] = \n",
    "tx_df['in_address'] = "
   ]
  },
  {
   "cell_type": "code",
   "execution_count": 15,
   "metadata": {
    "collapsed": false
   },
   "outputs": [],
   "source": [
    "tx_df['out_amount']=\n",
    "tx_df['in_amount'] = "
   ]
  },
  {
   "cell_type": "code",
   "execution_count": 25,
   "metadata": {
    "collapsed": false
   },
   "outputs": [],
   "source": [
    "lbryKeys = labels.keys()\n",
    "tx_df['lbry_out'] = tx_df.out_address.map(lambda x: bool(x in lbryKeys))\n",
    "tx_df['lbry_in'] = tx_df.in_address.map(lambda x: bool(x in lbryKeys)) "
   ]
  },
  {
   "cell_type": "code",
   "execution_count": 26,
   "metadata": {
    "collapsed": false
   },
   "outputs": [],
   "source": [
    "relevent_tx = tx_df[(tx_df.lbry_out==True) | (tx_df.lbry_in==True)]\n"
   ]
  },
  {
   "cell_type": "code",
   "execution_count": 28,
   "metadata": {
    "collapsed": false
   },
   "outputs": [
    {
     "data": {
      "text/plain": [
       "['rEQKyb7nd7UUGyEEn5xRkk1fgXdTCf2ZCg',\n",
       " 'rTZF9RvfkLJ6hwCwERwFd7dppRMeddKjpe',\n",
       " 'bLPbiXBp6Vr3NSnsHzDsLNzoy5o36re9Cz',\n",
       " 'r9DarmxyPjWkF7ocyxMzaNZN3a9gJvNTZJ',\n",
       " 'bWbFyN8CJAghwavfRDuEfmv71swkapBcuy',\n",
       " 'rRmURzvpHTysU4xUSp9CXeosBTbYfKs7n5',\n",
       " 'rVRMmGLZenVXpT1NwYMGcnwFc642kEgWTV',\n",
       " 'bVUrbCK8hcZ5XWti7b9eNxKEBxzc1rr393',\n",
       " 'rMT5Sg8SyFP3ax2PRaweRCRZoMeYw4znEi',\n",
       " 'bDzuP6Sawe7tadVKR7dmPW1JFYK9ELnjra',\n",
       " 'bFgohv4wprdCEtW2m5EVQyVNtxp4NxQMXi',\n",
       " 'bHW58d37s1hBjj3wPBkn5zpCX3F8ZW3uWf']"
      ]
     },
     "execution_count": 28,
     "metadata": {},
     "output_type": "execute_result"
    }
   ],
   "source": [
    "lbryKeys"
   ]
  },
  {
   "cell_type": "code",
   "execution_count": 27,
   "metadata": {
    "collapsed": false
   },
   "outputs": [
    {
     "data": {
      "text/html": [
       "<div>\n",
       "<table border=\"1\" class=\"dataframe\">\n",
       "  <thead>\n",
       "    <tr style=\"text-align: right;\">\n",
       "      <th></th>\n",
       "      <th>blockhash</th>\n",
       "      <th>blockindex</th>\n",
       "      <th>timestamp</th>\n",
       "      <th>total</th>\n",
       "      <th>txid</th>\n",
       "      <th>vin</th>\n",
       "      <th>vout</th>\n",
       "      <th>datetime</th>\n",
       "      <th>reward</th>\n",
       "      <th>out_address</th>\n",
       "      <th>in_address</th>\n",
       "      <th>out_amount</th>\n",
       "      <th>in_amount</th>\n",
       "      <th>lbry_out</th>\n",
       "      <th>lbry_in</th>\n",
       "    </tr>\n",
       "  </thead>\n",
       "  <tbody>\n",
       "  </tbody>\n",
       "</table>\n",
       "</div>"
      ],
      "text/plain": [
       "Empty DataFrame\n",
       "Columns: [blockhash, blockindex, timestamp, total, txid, vin, vout, datetime, reward, out_address, in_address, out_amount, in_amount, lbry_out, lbry_in]\n",
       "Index: []"
      ]
     },
     "execution_count": 27,
     "metadata": {},
     "output_type": "execute_result"
    }
   ],
   "source": [
    "relevent_tx"
   ]
  },
  {
   "cell_type": "code",
   "execution_count": null,
   "metadata": {
    "collapsed": false
   },
   "outputs": [],
   "source": [
    "tx_df.plot(x=\"datetime\", y= \"reward\")\n",
    "plt.ylabel(\"LBC\")"
   ]
  },
  {
   "cell_type": "code",
   "execution_count": null,
   "metadata": {
    "collapsed": false
   },
   "outputs": [],
   "source": [
    "relevent_tx = pd.DataFrame([row[0] for row in address_df[address_df.label != \"unknown\"].txs])"
   ]
  },
  {
   "cell_type": "code",
   "execution_count": null,
   "metadata": {
    "collapsed": false
   },
   "outputs": [],
   "source": [
    "relevent_tx.addresses.values\n",
    "#these are transaction IDs"
   ]
  },
  {
   "cell_type": "code",
   "execution_count": null,
   "metadata": {
    "collapsed": false
   },
   "outputs": [],
   "source": []
  },
  {
   "cell_type": "markdown",
   "metadata": {},
   "source": [
    "We are going to use transaction ids, the blockchain database and the addresses table to create a history of the LBRY addresses named in \"labels\" and used for operating the business."
   ]
  },
  {
   "cell_type": "code",
   "execution_count": null,
   "metadata": {
    "collapsed": false
   },
   "outputs": [],
   "source": [
    "tx_df.blockindex.max()"
   ]
  },
  {
   "cell_type": "code",
   "execution_count": null,
   "metadata": {
    "collapsed": true
   },
   "outputs": [],
   "source": []
  }
 ],
 "metadata": {
  "kernelspec": {
   "display_name": "Python 2",
   "language": "python",
   "name": "python2"
  },
  "language_info": {
   "codemirror_mode": {
    "name": "ipython",
    "version": 2
   },
   "file_extension": ".py",
   "mimetype": "text/x-python",
   "name": "python",
   "nbconvert_exporter": "python",
   "pygments_lexer": "ipython2",
   "version": "2.7.12"
  }
 },
 "nbformat": 4,
 "nbformat_minor": 0
}
